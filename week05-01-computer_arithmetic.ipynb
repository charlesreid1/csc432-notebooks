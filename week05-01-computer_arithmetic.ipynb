{
 "cells": [
  {
   "cell_type": "code",
   "execution_count": 1,
   "metadata": {},
   "outputs": [],
   "source": [
    "import numpy as np"
   ]
  },
  {
   "cell_type": "markdown",
   "metadata": {},
   "source": [
    "### Errors in Modeling"
   ]
  },
  {
   "cell_type": "markdown",
   "metadata": {},
   "source": [
    "#### Sources of Errors"
   ]
  },
  {
   "cell_type": "markdown",
   "metadata": {},
   "source": [
    "* Data/Measurement Errors\n",
    "* Modeling Errors\n",
    "* Implementation Errors\n",
    "* Precision Errors"
   ]
  },
  {
   "cell_type": "markdown",
   "metadata": {},
   "source": [
    "#### Floating Point Numbers"
   ]
  },
  {
   "cell_type": "markdown",
   "metadata": {},
   "source": [
    "In the **decimal**, or **base-10** numeral system numbers can be expressed as powers of 10\n",
    "\n",
    "    34,507.12\n",
    "    -----------\n",
    "    3 * 10,000 +\n",
    "    4 *  1,000 + \n",
    "    5 *    100 +\n",
    "    0 *     10 +\n",
    "    7 *      1 +\n",
    "    1 *     .1 +\n",
    "    2 *    .01\n",
    "\n",
    "or\n",
    "\n",
    "     34,507.12\n",
    "    ------------\n",
    "    3 *  10**4  +\n",
    "    4 *  10**3  + \n",
    "    5 *  10**2  +\n",
    "    0 *  10**1  +\n",
    "    7 *  10**0  +\n",
    "    1 *  10**-1 +\n",
    "    2 *  10**-2"
   ]
  },
  {
   "cell_type": "markdown",
   "metadata": {},
   "source": [
    "Base 2 Example\n",
    "\n",
    "    1001\n",
    "    ----------\n",
    "    1 * 2**3 +\n",
    "    0 * 2**2 +\n",
    "    0 * 2**1 +\n",
    "    1 * 2**0\n",
    "\n",
    "9 in base 10"
   ]
  },
  {
   "cell_type": "markdown",
   "metadata": {},
   "source": [
    "* computers are discrete (bits are 1s and 0s)\n",
    "* real numbers are continuous\n",
    "* use **floating point numbers** to represent continuous variables on a computer\n",
    "* often we can treat floating point numbers like real numbers\n",
    "* sometimes you can't -- you need to be aware of the limitations"
   ]
  },
  {
   "cell_type": "markdown",
   "metadata": {},
   "source": [
    "Example: The binary fraction representation for 1/10 is the infinitely repeating fraction\n",
    "\n",
    "    0.0001100110011001100110011001100110011001100110011...\n",
    "\n",
    "Stop at any finite number of bits, and you get an approximation."
   ]
  },
  {
   "cell_type": "markdown",
   "metadata": {},
   "source": [
    "The numerical value of a real number can be represented\n",
    "\n",
    "$$(-1)^{s}\\times c \\times b^{e}$$\n",
    "\n",
    "* $s$ is the sign bit\n",
    "* $c$ is the **significand** (also called the **fraction part**, the **characteristic**, and, often incorrectly, the **mantissa**)\n",
    "* $b$ is the base, or radix, (most often 10, but sometimes 2 for **binary** or 16 for **hexadecimal**)\n",
    "* $e$ is the **exponent**\n",
    "\n"
   ]
  },
  {
   "cell_type": "markdown",
   "metadata": {},
   "source": [
    "* An example is $0.98356 \\times 10^{3}$. This is what is called a **normalized** number, because the first nonzero digit immediatly follows the decimal point. \n",
    "* The significand is 98356\n",
    "* For integers all numbers except leading and trailing zeros are **significant digits**\n",
    "  * E.g., $$003,704,000 = 0.3704\\times10^{7}$$\n",
    "* For other numbers all numbers except leading zeros are **significant digits**\n",
    "  * E.g., $$0.09200=.9200\\times10^{-1}$$\n",
    "* The number of significant digits is called the **precision**"
   ]
  },
  {
   "cell_type": "markdown",
   "metadata": {},
   "source": [
    "* Numbers that can be represented are determined by the base $b$ and the number of digits in the significand, precision $p$. \n",
    "* The range for $c$ is $0$ through $b^{\\;p}-1$. \n",
    "  * In base 10, with $p=7$ $c$ is 0 through $10^7-1=9999999$\n",
    "* The exponent $e$ must be an integer such that $1-emax \\leq e+p-1 \\leq emax$\n",
    "  * For $p=7$ and $emax=96$ then $e$ can be $1 - 96 - 7 + 1 =-101$ through $96 - 7 + 1=90$\n",
    "* For this example, the smallest positive number with $c\\neq0$ is $1\\times10^{-101}$\n",
    "* The largest positive number is $9999999\\times10^{90}$ or $.9999999\\times10^{97}$"
   ]
  },
  {
   "cell_type": "markdown",
   "metadata": {},
   "source": [
    "#### Floating Point in NumPy"
   ]
  },
  {
   "cell_type": "code",
   "execution_count": 2,
   "metadata": {},
   "outputs": [],
   "source": [
    "f16 = np.finfo(np.float16)\n",
    "f32 = np.finfo(np.float32)\n",
    "f64 = np.finfo(np.float64)\n",
    "f128 = np.finfo(np.float128)"
   ]
  },
  {
   "cell_type": "code",
   "execution_count": 4,
   "metadata": {},
   "outputs": [
    {
     "name": "stdout",
     "output_type": "stream",
     "text": [
      "Machine parameters for float32\n",
      "---------------------------------------------------------------\n",
      "precision =   6   resolution = 1.0000000e-06\n",
      "machep =    -23   eps =        1.1920929e-07\n",
      "negep =     -24   epsneg =     5.9604645e-08\n",
      "minexp =   -126   tiny =       1.1754944e-38\n",
      "maxexp =    128   max =        3.4028235e+38\n",
      "nexp =        8   min =        -max\n",
      "---------------------------------------------------------------\n",
      "\n"
     ]
    }
   ],
   "source": [
    "print(f32)"
   ]
  },
  {
   "cell_type": "code",
   "execution_count": 5,
   "metadata": {},
   "outputs": [
    {
     "name": "stdout",
     "output_type": "stream",
     "text": [
      "Machine parameters for float64\n",
      "---------------------------------------------------------------\n",
      "precision =  15   resolution = 1.0000000000000001e-15\n",
      "machep =    -52   eps =        2.2204460492503131e-16\n",
      "negep =     -53   epsneg =     1.1102230246251565e-16\n",
      "minexp =  -1022   tiny =       2.2250738585072014e-308\n",
      "maxexp =   1024   max =        1.7976931348623157e+308\n",
      "nexp =       11   min =        -max\n",
      "---------------------------------------------------------------\n",
      "\n"
     ]
    }
   ],
   "source": [
    "print(f64)"
   ]
  },
  {
   "cell_type": "markdown",
   "metadata": {},
   "source": [
    "#### Integers in NumPy"
   ]
  },
  {
   "cell_type": "markdown",
   "metadata": {},
   "source": [
    "Standard binary encoding\n",
    "\n",
    "Unsigned range:   0 to $2^n - 1$, for n bits\n",
    "\n",
    "Signed range:   $-2^{n-1}$ to $2^{n-1}-1$, for n bits"
   ]
  },
  {
   "cell_type": "code",
   "execution_count": 8,
   "metadata": {},
   "outputs": [
    {
     "name": "stdout",
     "output_type": "stream",
     "text": [
      "Number of bits |   Range of Unsigned   |   Range of two-complement  \n",
      "       8       |       0-255           |        -128-127       \n",
      "      16       |       0-65535         |      -32768-32767     \n",
      "      32       |       0-4294967295    | -2147483648-2147483647\n"
     ]
    }
   ],
   "source": [
    "ui8 = np.iinfo(np.uint8)\n",
    "ui16 = np.iinfo(np.uint16)\n",
    "ui32 = np.iinfo(np.uint32)\n",
    "\n",
    "i8 = np.iinfo(np.int8)\n",
    "i16 = np.iinfo(np.int16)\n",
    "i32 = np.iinfo(np.int32)\n",
    "\n",
    "print(\"Number of bits |   Range of Unsigned   |   Range of two-complement  \")\n",
    "templ = \"{:^15d}|{:8d}-{:<14d}|{:12d}-{:<10d}\"\n",
    "print(templ.format(ui8.bits, ui8.min, ui8.max, i8.min, i8.max))\n",
    "print(templ.format(ui16.bits, ui16.min, ui16.max, i16.min, i16.max))\n",
    "print(templ.format(ui32.bits, ui32.min, ui32.max, i32.min, i32.max))"
   ]
  },
  {
   "cell_type": "markdown",
   "metadata": {},
   "source": [
    "#### Floating Point in Python"
   ]
  },
  {
   "cell_type": "markdown",
   "metadata": {},
   "source": [
    "Representation: The representation that you see in the interpreter is rarely the binary approximation stored in memory."
   ]
  },
  {
   "cell_type": "code",
   "execution_count": 9,
   "metadata": {},
   "outputs": [
    {
     "data": {
      "text/plain": [
       "array(0.10000000149011612, dtype=float32)"
      ]
     },
     "execution_count": 9,
     "metadata": {},
     "output_type": "execute_result"
    }
   ],
   "source": [
    "np.array(.1, np.float32) # illustrates the issue"
   ]
  },
  {
   "cell_type": "code",
   "execution_count": 10,
   "metadata": {},
   "outputs": [
    {
     "data": {
      "text/plain": [
       "0.1"
      ]
     },
     "execution_count": 10,
     "metadata": {},
     "output_type": "execute_result"
    }
   ],
   "source": [
    ".1"
   ]
  },
  {
   "cell_type": "code",
   "execution_count": 11,
   "metadata": {},
   "outputs": [
    {
     "data": {
      "text/plain": [
       "0.30000000000000004"
      ]
     },
     "execution_count": 11,
     "metadata": {},
     "output_type": "execute_result"
    }
   ],
   "source": [
    ".1 + .2"
   ]
  },
  {
   "cell_type": "code",
   "execution_count": 12,
   "metadata": {},
   "outputs": [
    {
     "data": {
      "text/plain": [
       "2.67"
      ]
     },
     "execution_count": 12,
     "metadata": {},
     "output_type": "execute_result"
    }
   ],
   "source": [
    "round(2.675, 2)"
   ]
  },
  {
   "cell_type": "markdown",
   "metadata": {},
   "source": [
    "Because the binary representation of 2.657 is\n",
    "\n",
    "    2.67499999999999982236431605997495353221893310546875"
   ]
  },
  {
   "cell_type": "code",
   "execution_count": 13,
   "metadata": {},
   "outputs": [],
   "source": [
    "from decimal import Decimal"
   ]
  },
  {
   "cell_type": "code",
   "execution_count": 14,
   "metadata": {},
   "outputs": [
    {
     "data": {
      "text/plain": [
       "Decimal('2.675')"
      ]
     },
     "execution_count": 14,
     "metadata": {},
     "output_type": "execute_result"
    }
   ],
   "source": [
    "Decimal('2.675')"
   ]
  },
  {
   "cell_type": "code",
   "execution_count": 15,
   "metadata": {},
   "outputs": [
    {
     "data": {
      "text/plain": [
       "Decimal('2.67499999999999982236431605997495353221893310546875')"
      ]
     },
     "execution_count": 15,
     "metadata": {},
     "output_type": "execute_result"
    }
   ],
   "source": [
    "Decimal(2.675)"
   ]
  },
  {
   "cell_type": "markdown",
   "metadata": {},
   "source": [
    "## Absolute and Relative Errors"
   ]
  },
  {
   "cell_type": "markdown",
   "metadata": {},
   "source": [
    "* Quantifying the size of the problem\n",
    "* **Absolute Error** is the difference between the exact answer and the computed answer\n",
    "  * $|correct-result|$\n",
    "  * $$\\hat{x} = x + \\epsilon$$\n",
    "* **Relative Error** is the difference divided by the absolute value of the exact answer\n",
    "  * $$\\frac{(absolute\\;error)}{|correct|}$$\n",
    "  * $$\\frac{(absolute\\;error)}{|correct|}\\times 100%$$\n",
    "  * $$\\hat{x} = x * (1+\\epsilon)$$\n",
    "  * given $correct \\neq 0$"
   ]
  },
  {
   "cell_type": "markdown",
   "metadata": {},
   "source": [
    "#### Example"
   ]
  },
  {
   "cell_type": "markdown",
   "metadata": {},
   "source": [
    "* Suppose we had a computer with a precision of 3. Only 3 digits can be in the significand.\n",
    "* This computer **truncates** the significand to 3 digits.\n",
    "* We want to compute the following."
   ]
  },
  {
   "cell_type": "markdown",
   "metadata": {},
   "source": [
    "$$\\begin{aligned}\n",
    "(.356 \\times 10^8)(0.228 \\times 10^{-3}) & =(0.356)(0.228)(10^8)(10^{-3}) \\cr\n",
    "& =0.081168\\times10^5 \\cr\n",
    "& =0.81168\\times10^4\n",
    "\\end{aligned}$$\n",
    "\n",
    "With a precision of 3, the result is\n",
    "\n",
    "$$result=0.811\\times 10^4$$"
   ]
  },
  {
   "cell_type": "markdown",
   "metadata": {},
   "source": [
    "The absolute error is\n",
    "\n",
    "$$|correct-result|=|0.81168\\times10^4-0.811\\times10^4|=.00068\\times10^4=6.8$$\n",
    "\n",
    "The relative error is\n",
    "\n",
    "$$\\frac{6.8}{.81168\\times10^4}=.0008378=.08378%$$"
   ]
  },
  {
   "cell_type": "markdown",
   "metadata": {},
   "source": [
    "#### Round-off Error"
   ]
  },
  {
   "cell_type": "markdown",
   "metadata": {},
   "source": [
    "* Can occur if instead of truncating a number, a computer **rounds**\n",
    "* When rounding, consider the $(k+1)^{th}$ digit for precision $k$.\n",
    "  * E.g., $0.81168\\times10^4$ rounded to precision 3 is $0.812\\times10^4$"
   ]
  },
  {
   "cell_type": "markdown",
   "metadata": {},
   "source": [
    "* **Round-off error** is the problem of not having enough bits to store an entire floating point number and approximating the result to the nearest number that can be represented."
   ]
  },
  {
   "cell_type": "code",
   "execution_count": 16,
   "metadata": {},
   "outputs": [
    {
     "data": {
      "text/plain": [
       "6"
      ]
     },
     "execution_count": 16,
     "metadata": {},
     "output_type": "execute_result"
    }
   ],
   "source": [
    "np.finfo(np.float32).precision"
   ]
  },
  {
   "cell_type": "code",
   "execution_count": 17,
   "metadata": {},
   "outputs": [
    {
     "data": {
      "text/plain": [
       "0.8888889"
      ]
     },
     "execution_count": 17,
     "metadata": {},
     "output_type": "execute_result"
    }
   ],
   "source": [
    "np.float32(8/9.)"
   ]
  },
  {
   "cell_type": "code",
   "execution_count": 18,
   "metadata": {},
   "outputs": [
    {
     "data": {
      "text/plain": [
       "15"
      ]
     },
     "execution_count": 18,
     "metadata": {},
     "output_type": "execute_result"
    }
   ],
   "source": [
    "np.finfo(np.float64).precision"
   ]
  },
  {
   "cell_type": "code",
   "execution_count": 19,
   "metadata": {},
   "outputs": [
    {
     "data": {
      "text/plain": [
       "0.88888888888888884"
      ]
     },
     "execution_count": 19,
     "metadata": {},
     "output_type": "execute_result"
    }
   ],
   "source": [
    "np.float64(8/9.)"
   ]
  },
  {
   "cell_type": "markdown",
   "metadata": {},
   "source": [
    "#### Overflow"
   ]
  },
  {
   "cell_type": "code",
   "execution_count": 20,
   "metadata": {},
   "outputs": [],
   "source": [
    "#Show in IPython, notebook captures stdout\n",
    "#np.seterr(over='print')\n",
    "np.seterr(over=\"warn\")\n",
    "import warnings; warnings.simplefilter(\"always\")"
   ]
  },
  {
   "cell_type": "code",
   "execution_count": 21,
   "metadata": {},
   "outputs": [
    {
     "name": "stderr",
     "output_type": "stream",
     "text": [
      "/usr/local/lib/python3.6/site-packages/ipykernel_launcher.py:1: RuntimeWarning: overflow encountered in short_scalars\n",
      "  \"\"\"Entry point for launching an IPython kernel.\n"
     ]
    },
    {
     "data": {
      "text/plain": [
       "-28672"
      ]
     },
     "execution_count": 21,
     "metadata": {},
     "output_type": "execute_result"
    }
   ],
   "source": [
    "np.int16(20480) + np.int16(16384)"
   ]
  },
  {
   "cell_type": "code",
   "execution_count": 22,
   "metadata": {},
   "outputs": [
    {
     "data": {
      "text/plain": [
       "36864"
      ]
     },
     "execution_count": 22,
     "metadata": {},
     "output_type": "execute_result"
    }
   ],
   "source": [
    "20480 + 16384"
   ]
  },
  {
   "cell_type": "code",
   "execution_count": 23,
   "metadata": {},
   "outputs": [
    {
     "data": {
      "text/plain": [
       "32767"
      ]
     },
     "execution_count": 23,
     "metadata": {},
     "output_type": "execute_result"
    }
   ],
   "source": [
    "np.iinfo(np.int16).max"
   ]
  },
  {
   "cell_type": "markdown",
   "metadata": {},
   "source": [
    "The leftmost bit, the sign bit, has gotten a carry from the addition on the right given an incorrect sign."
   ]
  },
  {
   "cell_type": "code",
   "execution_count": 24,
   "metadata": {},
   "outputs": [
    {
     "data": {
      "text/plain": [
       "inf"
      ]
     },
     "execution_count": 24,
     "metadata": {},
     "output_type": "execute_result"
    }
   ],
   "source": [
    "x = 1e200\n",
    "y = x*x\n",
    "y"
   ]
  },
  {
   "cell_type": "code",
   "execution_count": 25,
   "metadata": {},
   "outputs": [
    {
     "data": {
      "text/plain": [
       "nan"
      ]
     },
     "execution_count": 25,
     "metadata": {},
     "output_type": "execute_result"
    }
   ],
   "source": [
    "z = y\n",
    "z /= y\n",
    "z"
   ]
  },
  {
   "cell_type": "markdown",
   "metadata": {},
   "source": [
    "**Underflow** is a similar problem when the computer does not have enough bits to represent a small number and it is incorrectly represented as zero."
   ]
  },
  {
   "cell_type": "markdown",
   "metadata": {},
   "source": [
    "#### Arithmetic Errors"
   ]
  },
  {
   "cell_type": "markdown",
   "metadata": {},
   "source": [
    "See Violations Below"
   ]
  },
  {
   "cell_type": "markdown",
   "metadata": {},
   "source": [
    "#### Error Propagation"
   ]
  },
  {
   "cell_type": "markdown",
   "metadata": {},
   "source": [
    "* Performing floating point operations within loops compounds round-off error\n",
    "* When looping avoid accumulating floating point values through repeated addition or subtraction."
   ]
  },
  {
   "cell_type": "code",
   "execution_count": 26,
   "metadata": {},
   "outputs": [],
   "source": [
    "summation = 0.0\n",
    "for i in range(10):\n",
    "    summation += .1"
   ]
  },
  {
   "cell_type": "code",
   "execution_count": 27,
   "metadata": {},
   "outputs": [
    {
     "data": {
      "text/plain": [
       "False"
      ]
     },
     "execution_count": 27,
     "metadata": {},
     "output_type": "execute_result"
    }
   ],
   "source": [
    "summation == 1"
   ]
  },
  {
   "cell_type": "code",
   "execution_count": 28,
   "metadata": {},
   "outputs": [
    {
     "data": {
      "text/plain": [
       "0.9999999999999999"
      ]
     },
     "execution_count": 28,
     "metadata": {},
     "output_type": "execute_result"
    }
   ],
   "source": [
    "summation"
   ]
  },
  {
   "cell_type": "markdown",
   "metadata": {},
   "source": [
    "#### Violation of Numeric Properties "
   ]
  },
  {
   "cell_type": "markdown",
   "metadata": {},
   "source": [
    "Examples from Seminumerical Algorithms, Section 4.2.2."
   ]
  },
  {
   "cell_type": "code",
   "execution_count": 29,
   "metadata": {},
   "outputs": [],
   "source": [
    "from decimal import Decimal, getcontext\n",
    "getcontext().prec = 8"
   ]
  },
  {
   "cell_type": "markdown",
   "metadata": {},
   "source": [
    "##### Associative Property"
   ]
  },
  {
   "cell_type": "code",
   "execution_count": 30,
   "metadata": {},
   "outputs": [],
   "source": [
    "u, v = Decimal(11111113), Decimal(-11111111) \n",
    "w = Decimal(7.51111111)"
   ]
  },
  {
   "cell_type": "code",
   "execution_count": 31,
   "metadata": {},
   "outputs": [
    {
     "data": {
      "text/plain": [
       "Decimal('9.5111111')"
      ]
     },
     "execution_count": 31,
     "metadata": {},
     "output_type": "execute_result"
    }
   ],
   "source": [
    "(u + v) + w # correct"
   ]
  },
  {
   "cell_type": "code",
   "execution_count": 32,
   "metadata": {},
   "outputs": [
    {
     "data": {
      "text/plain": [
       "Decimal('10')"
      ]
     },
     "execution_count": 32,
     "metadata": {},
     "output_type": "execute_result"
    }
   ],
   "source": [
    "u + (v + w)"
   ]
  },
  {
   "cell_type": "code",
   "execution_count": 33,
   "metadata": {},
   "outputs": [
    {
     "data": {
      "text/plain": [
       "Decimal('2')"
      ]
     },
     "execution_count": 33,
     "metadata": {},
     "output_type": "execute_result"
    }
   ],
   "source": [
    "u + v"
   ]
  },
  {
   "cell_type": "code",
   "execution_count": 34,
   "metadata": {},
   "outputs": [
    {
     "data": {
      "text/plain": [
       "Decimal('7.5111111099999998685916580143384635448455810546875')"
      ]
     },
     "execution_count": 34,
     "metadata": {},
     "output_type": "execute_result"
    }
   ],
   "source": [
    "w"
   ]
  },
  {
   "cell_type": "code",
   "execution_count": 35,
   "metadata": {},
   "outputs": [
    {
     "data": {
      "text/plain": [
       "Decimal('-11111103')"
      ]
     },
     "execution_count": 35,
     "metadata": {},
     "output_type": "execute_result"
    }
   ],
   "source": [
    "v + w # not enough precision to store correct answer"
   ]
  },
  {
   "cell_type": "markdown",
   "metadata": {},
   "source": [
    "##### Distributive Property"
   ]
  },
  {
   "cell_type": "code",
   "execution_count": 36,
   "metadata": {},
   "outputs": [],
   "source": [
    "u, v, w = Decimal(20000), Decimal(-6), Decimal(6.0000003)"
   ]
  },
  {
   "cell_type": "code",
   "execution_count": 37,
   "metadata": {},
   "outputs": [
    {
     "data": {
      "text/plain": [
       "Decimal('0.01')"
      ]
     },
     "execution_count": 37,
     "metadata": {},
     "output_type": "execute_result"
    }
   ],
   "source": [
    "(u*v) + (u*w)"
   ]
  },
  {
   "cell_type": "code",
   "execution_count": 38,
   "metadata": {},
   "outputs": [
    {
     "data": {
      "text/plain": [
       "Decimal('0.0060000000')"
      ]
     },
     "execution_count": 38,
     "metadata": {},
     "output_type": "execute_result"
    }
   ],
   "source": [
    "u * (v+w) # correct"
   ]
  },
  {
   "cell_type": "code",
   "execution_count": 39,
   "metadata": {},
   "outputs": [
    {
     "data": {
      "text/plain": [
       "Decimal('3.0000000E-7')"
      ]
     },
     "execution_count": 39,
     "metadata": {},
     "output_type": "execute_result"
    }
   ],
   "source": [
    "v + w # get some precision back"
   ]
  },
  {
   "cell_type": "markdown",
   "metadata": {},
   "source": [
    "#### Comparison of Floating Point Numbers"
   ]
  },
  {
   "cell_type": "markdown",
   "metadata": {},
   "source": [
    "**Never do this**\n",
    "\n",
    "    >>> if a == b:\n",
    "        ...\n",
    "\n",
    "If a and b are floating point numbers."
   ]
  },
  {
   "cell_type": "markdown",
   "metadata": {},
   "source": [
    "Use `np.allclose` instead, which tests to see if the following is true element-wise\n",
    "\n",
    "absolute(`a` - `b`) <= (`atol` + `rtol` * absolute(`b`))"
   ]
  },
  {
   "cell_type": "code",
   "execution_count": 40,
   "metadata": {},
   "outputs": [
    {
     "data": {
      "text/plain": [
       "False"
      ]
     },
     "execution_count": 40,
     "metadata": {},
     "output_type": "execute_result"
    }
   ],
   "source": [
    "np.allclose(.81168e4, .811e4)"
   ]
  },
  {
   "cell_type": "code",
   "execution_count": 41,
   "metadata": {},
   "outputs": [
    {
     "data": {
      "text/plain": [
       "False"
      ]
     },
     "execution_count": 41,
     "metadata": {},
     "output_type": "execute_result"
    }
   ],
   "source": [
    "np.allclose(.81168e4, .811e4, atol=6.8, rtol=0)"
   ]
  },
  {
   "cell_type": "code",
   "execution_count": 42,
   "metadata": {},
   "outputs": [
    {
     "data": {
      "text/plain": [
       "True"
      ]
     },
     "execution_count": 42,
     "metadata": {},
     "output_type": "execute_result"
    }
   ],
   "source": [
    "np.allclose(.81168e4, .811e4, atol=6.9, rtol=0)"
   ]
  },
  {
   "cell_type": "code",
   "execution_count": 43,
   "metadata": {},
   "outputs": [
    {
     "data": {
      "text/plain": [
       "False"
      ]
     },
     "execution_count": 43,
     "metadata": {},
     "output_type": "execute_result"
    }
   ],
   "source": [
    "np.allclose(.81168e4, .811e4, atol=0, rtol=.0008)"
   ]
  },
  {
   "cell_type": "code",
   "execution_count": 44,
   "metadata": {},
   "outputs": [
    {
     "data": {
      "text/plain": [
       "True"
      ]
     },
     "execution_count": 44,
     "metadata": {},
     "output_type": "execute_result"
    }
   ],
   "source": [
    "np.allclose(.81168e4, .811e4, atol=0, rtol=.0009)"
   ]
  },
  {
   "cell_type": "code",
   "execution_count": 45,
   "metadata": {},
   "outputs": [
    {
     "data": {
      "text/plain": [
       "(6.488, 7.2989999999999995)"
      ]
     },
     "execution_count": 45,
     "metadata": {},
     "output_type": "execute_result"
    }
   ],
   "source": [
    "(.811e4*.0008, .811e4*.0009)"
   ]
  },
  {
   "cell_type": "markdown",
   "metadata": {},
   "source": [
    "#### Truncation Error"
   ]
  },
  {
   "cell_type": "markdown",
   "metadata": {},
   "source": [
    "Consider the infinite series representation of Euler's constant\n",
    "\n",
    "$$e^x=1+x+\\frac{x^2}{2!}+\\frac{x^3}{3!}+\\cdots+\\frac{x^n}{n!}$$\n",
    "\n",
    "However, we can't compute an infinite sum on a computer. If we compute a partial sum, for $e^1$, we would have\n",
    "\n",
    "$$e\\approx 1+1+\\frac{1}{2!}+\\frac{1}{3!}+\\frac{1}{4!}+\\cdots+\\frac{1}{20!}$$\n",
    "\n",
    "The truncation error would be\n",
    "\n",
    "$$\\frac{1}{21!}+\\frac{1}{22!}+\\frac{1}{23!}+\\cdots\\approx2.05\\times 10^{-20}$$"
   ]
  },
  {
   "cell_type": "markdown",
   "metadata": {},
   "source": [
    "#### NumPy Numerics"
   ]
  },
  {
   "cell_type": "markdown",
   "metadata": {},
   "source": [
    "NumPy and contains a few functions to help you compute things you might need in a numerical stable way."
   ]
  },
  {
   "cell_type": "code",
   "execution_count": 46,
   "metadata": {},
   "outputs": [
    {
     "data": {
      "text/plain": [
       "0.009950330853168092"
      ]
     },
     "execution_count": 46,
     "metadata": {},
     "output_type": "execute_result"
    }
   ],
   "source": [
    "np.log(1+1e-2)"
   ]
  },
  {
   "cell_type": "code",
   "execution_count": 47,
   "metadata": {},
   "outputs": [
    {
     "data": {
      "text/plain": [
       "0.0099503308531680833"
      ]
     },
     "execution_count": 47,
     "metadata": {},
     "output_type": "execute_result"
    }
   ],
   "source": [
    "np.log1p(1e-2)"
   ]
  },
  {
   "cell_type": "code",
   "execution_count": 48,
   "metadata": {},
   "outputs": [
    {
     "name": "stdout",
     "output_type": "stream",
     "text": [
      "Install mpmath to run this cell\n"
     ]
    }
   ],
   "source": [
    "try:\n",
    "    import mpmath\n",
    "    from mpmath import mpf\n",
    "    mpf.context.dps = 100\n",
    "    print(mpmath.log(mpf(1)+mpf(1e-23)))\n",
    "except:\n",
    "    print(\"Install mpmath to run this cell\")"
   ]
  },
  {
   "cell_type": "code",
   "execution_count": 49,
   "metadata": {},
   "outputs": [
    {
     "data": {
      "text/plain": [
       "0.0"
      ]
     },
     "execution_count": 49,
     "metadata": {},
     "output_type": "execute_result"
    }
   ],
   "source": [
    "np.log(1+1e-23)"
   ]
  },
  {
   "cell_type": "code",
   "execution_count": 50,
   "metadata": {},
   "outputs": [
    {
     "data": {
      "text/plain": [
       "9.9999999999999996e-24"
      ]
     },
     "execution_count": 50,
     "metadata": {},
     "output_type": "execute_result"
    }
   ],
   "source": [
    "np.log1p(1e-23)"
   ]
  },
  {
   "cell_type": "markdown",
   "metadata": {},
   "source": [
    "There is also `np.expm1` for the inverse operation."
   ]
  },
  {
   "cell_type": "markdown",
   "metadata": {},
   "source": [
    "#### More Reading"
   ]
  },
  {
   "cell_type": "markdown",
   "metadata": {},
   "source": [
    "[The Perils of Floating Point](http://www.lahey.com/float.htm)\n",
    "\n",
    "[What Every Computer Scientist Should Know About Floating-Point Arithmetic](http://docs.oracle.com/cd/E19957-01/806-3568/ncg_goldberg.html)\n",
    "\n",
    "[IEEE Floating Point](http://en.wikipedia.org/wiki/IEEE_floating_point)\n",
    "\n",
    "[IEEE 754: Standard for Binary Floating-Point Arithmetic](http://grouper.ieee.org/groups/754/)"
   ]
  }
 ],
 "metadata": {
  "kernelspec": {
   "display_name": "Python 3",
   "language": "python",
   "name": "python3"
  },
  "language_info": {
   "codemirror_mode": {
    "name": "ipython",
    "version": 3
   },
   "file_extension": ".py",
   "mimetype": "text/x-python",
   "name": "python",
   "nbconvert_exporter": "python",
   "pygments_lexer": "ipython3",
   "version": "3.6.2"
  }
 },
 "nbformat": 4,
 "nbformat_minor": 1
}
