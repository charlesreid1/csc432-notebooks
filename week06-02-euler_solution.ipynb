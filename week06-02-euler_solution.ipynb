{
 "cells": [
  {
   "cell_type": "code",
   "execution_count": 1,
   "metadata": {},
   "outputs": [],
   "source": [
    "import numpy as np"
   ]
  },
  {
   "cell_type": "code",
   "execution_count": 2,
   "metadata": {},
   "outputs": [],
   "source": [
    "def exp_growth(t, const=100, growth_rate=.1):\n",
    "    \"\"\"\n",
    "    True solution\n",
    "    \"\"\"\n",
    "    return const * np.exp(growth_rate * t)"
   ]
  },
  {
   "cell_type": "code",
   "execution_count": 3,
   "metadata": {},
   "outputs": [],
   "source": [
    "def relative_error(estimate, analytic):\n",
    "    return np.abs(estimate - analytic)/np.abs(analytic)"
   ]
  },
  {
   "cell_type": "code",
   "execution_count": 4,
   "metadata": {},
   "outputs": [],
   "source": [
    "def dPdt(P, t, growth_rate):\n",
    "    return P*growth_rate"
   ]
  },
  {
   "cell_type": "code",
   "execution_count": 5,
   "metadata": {},
   "outputs": [],
   "source": [
    "def euler(func, initial, ntime, dt, args=()):\n",
    "    nsteps = int(ntime/dt)\n",
    "    population = np.zeros(nsteps+1)\n",
    "    population[0] = initial\n",
    "    for i in range(1, len(population)):\n",
    "        t = i * dt\n",
    "        dP = func(population[i-1], t, *args)\n",
    "        population[i] = population[i-1] + dP*dt\n",
    "    return population"
   ]
  },
  {
   "cell_type": "code",
   "execution_count": 6,
   "metadata": {},
   "outputs": [],
   "source": [
    "population = euler(dPdt, 100, 100, 1, args=(.1,))"
   ]
  },
  {
   "cell_type": "code",
   "execution_count": 8,
   "metadata": {},
   "outputs": [
    {
     "name": "stdout",
     "output_type": "stream",
     "text": [
      "1378061.23398\n"
     ]
    }
   ],
   "source": [
    "print(population[-1])"
   ]
  },
  {
   "cell_type": "code",
   "execution_count": 9,
   "metadata": {},
   "outputs": [
    {
     "data": {
      "text/plain": [
       "2202646.5794806718"
      ]
     },
     "execution_count": 9,
     "metadata": {},
     "output_type": "execute_result"
    }
   ],
   "source": [
    "exp_growth(100)"
   ]
  },
  {
   "cell_type": "code",
   "execution_count": 10,
   "metadata": {},
   "outputs": [
    {
     "name": "stdout",
     "output_type": "stream",
     "text": [
      "37.4361167688\n"
     ]
    }
   ],
   "source": [
    "re1 = relative_error(population[-1], exp_growth(100))\n",
    "print(re1*100)"
   ]
  },
  {
   "cell_type": "code",
   "execution_count": 11,
   "metadata": {},
   "outputs": [],
   "source": [
    "population2 = euler(dPdt, 100, 100, .5, args=(.1,))"
   ]
  },
  {
   "cell_type": "code",
   "execution_count": 13,
   "metadata": {},
   "outputs": [
    {
     "name": "stdout",
     "output_type": "stream",
     "text": [
      "1729258.08152\n"
     ]
    }
   ],
   "source": [
    "print(population2[-1])"
   ]
  },
  {
   "cell_type": "code",
   "execution_count": 15,
   "metadata": {},
   "outputs": [
    {
     "name": "stdout",
     "output_type": "stream",
     "text": [
      "21.491804558\n"
     ]
    }
   ],
   "source": [
    "re2 = relative_error(population2[-1], exp_growth(100))\n",
    "print(re2 * 100)"
   ]
  },
  {
   "cell_type": "code",
   "execution_count": 16,
   "metadata": {},
   "outputs": [],
   "source": [
    "population3 = euler(dPdt, 100, 100, .25, args=(.1,))"
   ]
  },
  {
   "cell_type": "code",
   "execution_count": 17,
   "metadata": {},
   "outputs": [
    {
     "name": "stdout",
     "output_type": "stream",
     "text": [
      "11.5696512713\n"
     ]
    }
   ],
   "source": [
    "re3 = relative_error(population3[-1], exp_growth(100))\n",
    "print(re3 * 100)"
   ]
  },
  {
   "cell_type": "code",
   "execution_count": 18,
   "metadata": {},
   "outputs": [
    {
     "name": "stdout",
     "output_type": "stream",
     "text": [
      "0.574092785603\n",
      "0.53832851681\n"
     ]
    }
   ],
   "source": [
    "print(re2/re1)\n",
    "print(re3/re2)"
   ]
  },
  {
   "cell_type": "markdown",
   "metadata": {},
   "source": [
    "The relative error is $\\operatorname{O}(\\Delta t)$ or **on the order of** $\\Delta t$"
   ]
  }
 ],
 "metadata": {
  "kernelspec": {
   "display_name": "Python 3",
   "language": "python",
   "name": "python3"
  },
  "language_info": {
   "codemirror_mode": {
    "name": "ipython",
    "version": 3
   },
   "file_extension": ".py",
   "mimetype": "text/x-python",
   "name": "python",
   "nbconvert_exporter": "python",
   "pygments_lexer": "ipython3",
   "version": "3.6.2"
  }
 },
 "nbformat": 4,
 "nbformat_minor": 1
}
