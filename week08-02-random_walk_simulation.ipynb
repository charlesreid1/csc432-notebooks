{
 "cells": [
  {
   "cell_type": "markdown",
   "metadata": {},
   "source": [
    "## Random Walk"
   ]
  },
  {
   "cell_type": "code",
   "execution_count": 1,
   "metadata": {},
   "outputs": [],
   "source": [
    "import numpy as np\n",
    "import matplotlib.pyplot as plt"
   ]
  },
  {
   "cell_type": "markdown",
   "metadata": {},
   "source": [
    "#### Introduction"
   ]
  },
  {
   "cell_type": "markdown",
   "metadata": {},
   "source": [
    "* random walk refers to the apparently random movement of some entity\n",
    "  - i.e., the past has no bearing on the future\n",
    "* in a time-driven simluation, an entity may take the form of a **cell** on a **grid**\n",
    "* under random walk conditions the entity may move at random to any adjacent (perhaps under constraints)"
   ]
  },
  {
   "cell_type": "markdown",
   "metadata": {},
   "source": [
    "* a certain type of simulation involving grids is a **cellular automaton**\n",
    "* these are dynamic models that are discrete in space, state, and time\n",
    "* space takes the form of a 1-, 2- or 3-D **grid** (or array or lattice)\n",
    "* a **site** or **cell** has a state, the number of which are finite\n",
    "* **Rules** specify local relationships and indicate how cells are to change state\n",
    "* Often we will want to animate our simulations to watch how they change over time"
   ]
  },
  {
   "cell_type": "markdown",
   "metadata": {},
   "source": [
    "* examples of cellular automata models include\n",
    "* Brownian motion for the behavior of a molecule suspended in liquid\n",
    "* Polymerase Chain Reactions to simulate DNA mutations\n",
    "* Spread of fire\n",
    "* Schelling's (1971) housing segregation model"
   ]
  },
  {
   "cell_type": "markdown",
   "metadata": {},
   "source": [
    "#### Algorithm for Random Walk"
   ]
  },
  {
   "cell_type": "markdown",
   "metadata": {},
   "source": [
    "* Suppose that in a RW simulation at each time step an entity goes diagonally in a NE, NW, SE, or SW direction at random\n",
    "* To move in these directions, each entity first walks east or west one unit then north or south one unit\n",
    "* The entity covers a diagonal distance of $\\sqrt{2}$ units"
   ]
  },
  {
   "cell_type": "markdown",
   "metadata": {},
   "source": [
    "#### Algorithm 1"
   ]
  },
  {
   "cell_type": "markdown",
   "metadata": {},
   "source": [
    "* variables x and y store the horizontal and vertical coordinates of the current location\n",
    " - we will use a single 2-d array\n",
    "* **locations** holds a list of locations in the path of the entity\n",
    "* the entity starts at the origin (0, 0)\n",
    "* $n$ steps are taken\n",
    "* set a seed\n",
    "* at each step we draw a direction for east or west and a direction for north or south\n",
    "* we then generate a new (x,y) point and append it to our list\n",
    "* we can then visualize our path"
   ]
  },
  {
   "cell_type": "markdown",
   "metadata": {},
   "source": [
    "* **Aside:** how to generate directions?"
   ]
  },
  {
   "cell_type": "markdown",
   "metadata": {},
   "source": [
    "One Option: Use a dictionary"
   ]
  },
  {
   "cell_type": "code",
   "execution_count": 2,
   "metadata": {},
   "outputs": [],
   "source": [
    "direction = {0 : -1, 1 : 1}"
   ]
  },
  {
   "cell_type": "code",
   "execution_count": 3,
   "metadata": {},
   "outputs": [
    {
     "data": {
      "text/plain": [
       "array([0, 1, 1, 1, 0])"
      ]
     },
     "execution_count": 3,
     "metadata": {},
     "output_type": "execute_result"
    }
   ],
   "source": [
    "np.random.seed(12345)\n",
    "np.random.randint(2, size=5)"
   ]
  },
  {
   "cell_type": "code",
   "execution_count": 4,
   "metadata": {},
   "outputs": [
    {
     "data": {
      "text/plain": [
       "1"
      ]
     },
     "execution_count": 4,
     "metadata": {},
     "output_type": "execute_result"
    }
   ],
   "source": [
    "direction[np.random.randint(2)]"
   ]
  },
  {
   "cell_type": "markdown",
   "metadata": {},
   "source": [
    "Another Option: Use `np.random.choice`<br />\n",
    "**Note** this was added in numpy 1.7.0."
   ]
  },
  {
   "cell_type": "code",
   "execution_count": 5,
   "metadata": {},
   "outputs": [
    {
     "data": {
      "text/plain": [
       "array([-1,  1,  1,  1, -1])"
      ]
     },
     "execution_count": 5,
     "metadata": {},
     "output_type": "execute_result"
    }
   ],
   "source": [
    "np.random.seed(12345)\n",
    "np.random.choice([-1, 1], size=5)"
   ]
  },
  {
   "cell_type": "code",
   "execution_count": 6,
   "metadata": {},
   "outputs": [
    {
     "data": {
      "text/plain": [
       "array([[-1,  1],\n",
       "       [ 1,  1],\n",
       "       [-1,  1],\n",
       "       [-1, -1],\n",
       "       [ 1, -1],\n",
       "       [ 1,  1],\n",
       "       [-1,  1],\n",
       "       [ 1, -1],\n",
       "       [ 1,  1],\n",
       "       [ 1, -1]])"
      ]
     },
     "execution_count": 6,
     "metadata": {},
     "output_type": "execute_result"
    }
   ],
   "source": [
    "np.random.seed(12345)\n",
    "directions = np.random.choice([-1,1], size=(10,2))\n",
    "directions"
   ]
  },
  {
   "cell_type": "code",
   "execution_count": 7,
   "metadata": {},
   "outputs": [
    {
     "data": {
      "text/plain": [
       "array([[-1,  1],\n",
       "       [ 0,  2],\n",
       "       [-1,  3],\n",
       "       [-2,  2],\n",
       "       [-1,  1],\n",
       "       [ 0,  2],\n",
       "       [-1,  3],\n",
       "       [ 0,  2],\n",
       "       [ 1,  3],\n",
       "       [ 2,  2]])"
      ]
     },
     "execution_count": 7,
     "metadata": {},
     "output_type": "execute_result"
    }
   ],
   "source": [
    "np.cumsum(directions, axis=0)"
   ]
  },
  {
   "cell_type": "code",
   "execution_count": 8,
   "metadata": {},
   "outputs": [],
   "source": [
    "def random_path(initial_point, nsteps):\n",
    "    directions = np.random.choice([-1, 1], size=(nsteps, 2))\n",
    "    path = initial_point + np.cumsum(directions, axis=0)\n",
    "    # append the initial point back to the front\n",
    "    path = np.row_stack((initial_point, path))\n",
    "    return path"
   ]
  },
  {
   "cell_type": "code",
   "execution_count": 9,
   "metadata": {},
   "outputs": [],
   "source": [
    "origin = [0, 0]"
   ]
  },
  {
   "cell_type": "code",
   "execution_count": 10,
   "metadata": {},
   "outputs": [],
   "source": [
    "np.random.seed(12345)\n",
    "path = random_path(origin, 15)"
   ]
  },
  {
   "cell_type": "code",
   "execution_count": 11,
   "metadata": {},
   "outputs": [
    {
     "data": {
      "text/plain": [
       "array([[ 0,  0],\n",
       "       [-1,  1],\n",
       "       [ 0,  2],\n",
       "       [-1,  3],\n",
       "       [-2,  2],\n",
       "       [-1,  1],\n",
       "       [ 0,  2],\n",
       "       [-1,  3],\n",
       "       [ 0,  2],\n",
       "       [ 1,  3],\n",
       "       [ 2,  2],\n",
       "       [ 1,  1],\n",
       "       [ 2,  2],\n",
       "       [ 3,  1],\n",
       "       [ 4,  0],\n",
       "       [ 3,  1]])"
      ]
     },
     "execution_count": 11,
     "metadata": {},
     "output_type": "execute_result"
    }
   ],
   "source": [
    "path"
   ]
  },
  {
   "cell_type": "markdown",
   "metadata": {},
   "source": [
    "* We might want to calculate the distance traveled from the origin."
   ]
  },
  {
   "cell_type": "code",
   "execution_count": 12,
   "metadata": {},
   "outputs": [],
   "source": [
    "from scipy import spatial"
   ]
  },
  {
   "cell_type": "code",
   "execution_count": 13,
   "metadata": {},
   "outputs": [],
   "source": [
    "from scipy.spatial import distance"
   ]
  },
  {
   "cell_type": "code",
   "execution_count": 14,
   "metadata": {},
   "outputs": [
    {
     "data": {
      "text/plain": [
       "3.1622776601683795"
      ]
     },
     "execution_count": 14,
     "metadata": {},
     "output_type": "execute_result"
    }
   ],
   "source": [
    "distance.euclidean(path[0], path[-1])"
   ]
  },
  {
   "cell_type": "markdown",
   "metadata": {},
   "source": [
    "* Remember Euclidean distance is just \n",
    "$$d = \\sqrt{(x-x_0)^2+(y-y_0)^2}$$"
   ]
  },
  {
   "cell_type": "code",
   "execution_count": 16,
   "metadata": {},
   "outputs": [
    {
     "name": "stdout",
     "output_type": "stream",
     "text": [
      "[9 1]\n"
     ]
    }
   ],
   "source": [
    "print((path[0] - path[-1])**2)"
   ]
  },
  {
   "cell_type": "code",
   "execution_count": 17,
   "metadata": {},
   "outputs": [
    {
     "name": "stdout",
     "output_type": "stream",
     "text": [
      "3.16227766017\n"
     ]
    }
   ],
   "source": [
    "print(np.sqrt(np.sum((path[-1] - path[0])**2)))"
   ]
  },
  {
   "cell_type": "code",
   "execution_count": 18,
   "metadata": {},
   "outputs": [
    {
     "data": {
      "text/plain": [
       "array([ 3.,  1.])"
      ]
     },
     "execution_count": 18,
     "metadata": {},
     "output_type": "execute_result"
    }
   ],
   "source": [
    "np.hypot(path[0], path[-1])"
   ]
  },
  {
   "cell_type": "code",
   "execution_count": 19,
   "metadata": {},
   "outputs": [
    {
     "data": {
      "text/plain": [
       "3.1622776601683795"
      ]
     },
     "execution_count": 19,
     "metadata": {},
     "output_type": "execute_result"
    }
   ],
   "source": [
    "np.sqrt(np.sum(np.hypot(path[0], path[-1])**2))"
   ]
  },
  {
   "cell_type": "code",
   "execution_count": 20,
   "metadata": {},
   "outputs": [
    {
     "data": {
      "image/png": "[encoded data removed]",
      "text/plain": [
       "<matplotlib.figure.Figure at 0x10e5a7a58>"
      ]
     },
     "metadata": {},
     "output_type": "display_data"
    }
   ],
   "source": [
    "fig, ax = plt.subplots(figsize=(8,6))\n",
    "ax.plot(*path.T, linestyle=\"-\", marker=\"o\", color=\"k\",\n",
    "        markerfacecolor=\"b\", markersize=10)\n",
    "ax.set_xlim(-3, 5);\n",
    "ax.set_ylim(-1, 4);\n",
    "plt.show();"
   ]
  },
  {
   "cell_type": "markdown",
   "metadata": {},
   "source": [
    "#### Animate Path"
   ]
  },
  {
   "cell_type": "markdown",
   "metadata": {},
   "source": [
    "* There are a few options to do animation with matplotlib\n",
    "* You can save plots at each of the steps and use outside tools to animate them"
   ]
  },
  {
   "cell_type": "code",
   "execution_count": null,
   "metadata": {},
   "outputs": [],
   "source": [
    "# execute a command delete the files if they already exist\n",
    "# ! allows you to run commands at the shell\n",
    "\n",
    "!rm ./animate_path*"
   ]
  },
  {
   "cell_type": "code",
   "execution_count": 21,
   "metadata": {},
   "outputs": [],
   "source": [
    "for i in range(1, len(path)+1):\n",
    "    fig, ax = plt.subplots(figsize=(8,6))\n",
    "    ax.plot(*path[:i].T, linestyle=\"-\", marker=\"o\", color=\"k\",\n",
    "        markerfacecolor=\"b\", markersize=10);\n",
    "    # plot the most recent with a different color\n",
    "    ax.plot(*path[i-1], marker=\"o\", markerfacecolor=\"red\", \n",
    "        markersize=10);\n",
    "    ax.set_xlim(-3, 5);\n",
    "    ax.set_ylim(-1, 4);\n",
    "    fig.savefig(\"./animate_path%02d.png\" % i)\n",
    "\n",
    "# close them before they display\n",
    "plt.close('all')"
   ]
  },
  {
   "cell_type": "markdown",
   "metadata": {},
   "source": [
    "* Now we could use a tool like `ffmpeg` to turn this into an animation"
   ]
  },
  {
   "cell_type": "code",
   "execution_count": 22,
   "metadata": {},
   "outputs": [
    {
     "name": "stdout",
     "output_type": "stream",
     "text": [
      "rm: animated_path.*: No such file or directory\r\n"
     ]
    }
   ],
   "source": [
    "!rm animated_path.*"
   ]
  },
  {
   "cell_type": "markdown",
   "metadata": {},
   "source": [
    "Note: Use webm format because it works by default in firefox and chrome."
   ]
  },
  {
   "cell_type": "markdown",
   "metadata": {},
   "source": [
    "On Windows you may need to give the path to ffmpeg.exe or add the directory to the PATH."
   ]
  },
  {
   "cell_type": "code",
   "execution_count": 25,
   "metadata": {},
   "outputs": [
    {
     "name": "stdout",
     "output_type": "stream",
     "text": [
      "ffmpeg version 3.3.1 Copyright (c) 2000-2017 the FFmpeg developers\n",
      "  built with Apple LLVM version 8.1.0 (clang-802.0.42)\n",
      "  configuration: --prefix=/usr/local/Cellar/ffmpeg/3.3.1 --enable-shared --enable-pthreads --enable-gpl --enable-version3 --enable-hardcoded-tables --enable-avresample --cc=clang --host-cflags= --host-ldflags= --enable-libmp3lame --enable-libx264 --enable-libxvid --enable-opencl --disable-lzma --enable-vda\n",
      "  libavutil      55. 58.100 / 55. 58.100\n",
      "  libavcodec     57. 89.100 / 57. 89.100\n",
      "  libavformat    57. 71.100 / 57. 71.100\n",
      "  libavdevice    57.  6.100 / 57.  6.100\n",
      "  libavfilter     6. 82.100 /  6. 82.100\n",
      "  libavresample   3.  5.  0 /  3.  5.  0\n",
      "  libswscale      4.  6.100 /  4.  6.100\n",
      "  libswresample   2.  7.100 /  2.  7.100\n",
      "  libpostproc    54.  5.100 / 54.  5.100\n",
      "Input #0, image2, from 'animate_path%02d.png':\n",
      "  Duration: 00:00:32.00, start: 0.000000, bitrate: N/A\n",
      "    Stream #0:0: Video: png, rgba(pc), 576x432 [SAR 2834:2834 DAR 4:3], 0.50 fps, 0.50 tbr, 0.50 tbn, 0.50 tbc\n",
      "Stream mapping:\n",
      "  Stream #0:0 -> #0:0 (png (native) -> h264 (libx264))\n",
      "Press [q] to stop, [?] for help\n",
      "\u001b[0;33mNo pixel format specified, yuv444p for H.264 encoding chosen.\n",
      "Use -pix_fmt yuv420p for compatibility with outdated media players.\n",
      "\u001b[0m\u001b[1;36m[libx264 @ 0x7f8d45014800] \u001b[0musing SAR=1/1\n",
      "\u001b[1;36m[libx264 @ 0x7f8d45014800] \u001b[0musing cpu capabilities: MMX2 SSE2Fast SSSE3 SSE4.2 AVX FMA3 AVX2 LZCNT BMI2\n",
      "\u001b[1;36m[libx264 @ 0x7f8d45014800] \u001b[0mprofile High 4:4:4 Predictive, level 3.0, 4:4:4 8-bit\n",
      "\u001b[1;36m[libx264 @ 0x7f8d45014800] \u001b[0m264 - core 148 r2748 97eaef2 - H.264/MPEG-4 AVC codec - Copyleft 2003-2016 - http://www.videolan.org/x264.html - options: cabac=1 ref=3 deblock=1:0:0 analyse=0x3:0x113 me=hex subme=7 psy=1 psy_rd=1.00:0.00 mixed_ref=1 me_range=16 chroma_me=1 trellis=1 8x8dct=1 cqm=0 deadzone=21,11 fast_pskip=1 chroma_qp_offset=4 threads=6 lookahead_threads=1 sliced_threads=0 nr=0 decimate=1 interlaced=0 bluray_compat=0 constrained_intra=0 bframes=3 b_pyramid=2 b_adapt=1 b_bias=0 direct=1 weightb=1 open_gop=0 weightp=2 keyint=250 keyint_min=25 scenecut=40 intra_refresh=0 rc_lookahead=40 rc=crf mbtree=1 crf=23.0 qcomp=0.60 qpmin=0 qpmax=69 qpstep=4 ip_ratio=1.40 aq=1:1.00\n",
      "Output #0, mp4, to 'animated_path.mp4':\n",
      "  Metadata:\n",
      "    encoder         : Lavf57.71.100\n",
      "    Stream #0:0: Video: h264 (libx264) ([33][0][0][0] / 0x0021), yuv444p, 576x432 [SAR 1:1 DAR 4:3], q=-1--1, 30 fps, 15360 tbn, 30 tbc\n",
      "    Metadata:\n",
      "      encoder         : Lavc57.89.100 libx264\n",
      "    Side data:\n",
      "      cpb: bitrate max/min/avg: 0/0/0 buffer size: 0 vbv_delay: -1\n",
      "frame=  960 fps=490 q=-1.0 Lsize=      61kB time=00:00:31.90 bitrate=  15.8kbits/s dup=944 drop=0 speed=16.3x    \n",
      "video:49kB audio:0kB subtitle:0kB other streams:0kB global headers:0kB muxing overhead: 24.445236%\n",
      "\u001b[1;36m[libx264 @ 0x7f8d45014800] \u001b[0mframe I:4     Avg QP:16.89  size:  3626\n",
      "\u001b[1;36m[libx264 @ 0x7f8d45014800] \u001b[0mframe P:242   Avg QP:11.05  size:    66\n",
      "\u001b[1;36m[libx264 @ 0x7f8d45014800] \u001b[0mframe B:714   Avg QP:13.67  size:    27\n",
      "\u001b[1;36m[libx264 @ 0x7f8d45014800] \u001b[0mconsecutive B-frames:  0.8%  0.0%  0.0% 99.2%\n",
      "\u001b[1;36m[libx264 @ 0x7f8d45014800] \u001b[0mmb I  I16..4: 15.2% 77.3%  7.5%\n",
      "\u001b[1;36m[libx264 @ 0x7f8d45014800] \u001b[0mmb P  I16..4:  0.0%  0.0%  0.0%  P16..4:  0.0%  0.0%  0.0%  0.0%  0.0%    skip:99.9%\n",
      "\u001b[1;36m[libx264 @ 0x7f8d45014800] \u001b[0mmb B  I16..4:  0.0%  0.0%  0.0%  B16..8:  0.5%  0.0%  0.0%  direct: 0.0%  skip:99.5%  L0:68.0% L1:32.0% BI: 0.0%\n",
      "\u001b[1;36m[libx264 @ 0x7f8d45014800] \u001b[0m8x8 transform intra:75.2% inter:4.8%\n",
      "\u001b[1;36m[libx264 @ 0x7f8d45014800] \u001b[0mcoded y,u,v intra: 5.3% 1.4% 1.1% inter: 0.0% 0.0% 0.0%\n",
      "\u001b[1;36m[libx264 @ 0x7f8d45014800] \u001b[0mi16 v,h,dc,p: 58% 40%  2%  0%\n",
      "\u001b[1;36m[libx264 @ 0x7f8d45014800] \u001b[0mi8 v,h,dc,ddl,ddr,vr,hd,vl,hu: 59%  3% 38%  0%  0%  0%  0%  0%  0%\n",
      "\u001b[1;36m[libx264 @ 0x7f8d45014800] \u001b[0mi4 v,h,dc,ddl,ddr,vr,hd,vl,hu: 38% 19% 20%  7%  8%  2%  1%  2%  1%\n",
      "\u001b[1;36m[libx264 @ 0x7f8d45014800] \u001b[0mWeighted P-Frames: Y:0.0% UV:0.0%\n",
      "\u001b[1;36m[libx264 @ 0x7f8d45014800] \u001b[0mref P L0: 78.4% 11.1%  4.8%  5.8%\n",
      "\u001b[1;36m[libx264 @ 0x7f8d45014800] \u001b[0mref B L0: 49.9% 50.1%\n",
      "\u001b[1;36m[libx264 @ 0x7f8d45014800] \u001b[0mkb/s:12.47\n"
     ]
    }
   ],
   "source": [
    "!ffmpeg -f image2 -r 1/2 -i animate_path%02d.png -r 30 animated_path.mp4"
   ]
  },
  {
   "cell_type": "markdown",
   "metadata": {},
   "source": [
    "<video width=\"640\" height=\"480\" controls>\n",
    "  <source src=\"files/animated_path.mp4\">\n",
    "Your browser does not support the video tag.\n",
    "</video>"
   ]
  },
  {
   "cell_type": "markdown",
   "metadata": {},
   "source": [
    "* `matplotlib` also has [built-in animation tools](http://matplotlib.org/api/animation_api.html)"
   ]
  },
  {
   "cell_type": "markdown",
   "metadata": {},
   "source": [
    "#### Average Distance Covered"
   ]
  },
  {
   "cell_type": "markdown",
   "metadata": {},
   "source": [
    "* Great variation can exist in the paths and the final distance traveled\n",
    "* We may be interested in running this a number of times and taking averages\n",
    "* Since we're using Python, we want to avoid loops\n",
    "* How can we accomplish this without any loops?"
   ]
  },
  {
   "cell_type": "code",
   "execution_count": 26,
   "metadata": {},
   "outputs": [],
   "source": [
    "nsteps = 25\n",
    "num_tests = 100\n",
    "\n",
    "origin = np.array([0, 0])\n",
    "directions = np.random.choice([-1, 1], size=(nsteps, num_tests, 2))"
   ]
  },
  {
   "cell_type": "markdown",
   "metadata": {},
   "source": [
    "* We have an array thats $(nsteps \\times num\\_tests\\times 2)$\n",
    "* The middle dimension is over the number of different runs\n",
    "* The first run, for example, looks like this"
   ]
  },
  {
   "cell_type": "code",
   "execution_count": 27,
   "metadata": {},
   "outputs": [
    {
     "data": {
      "text/plain": [
       "array([[ 1,  1],\n",
       "       [ 1,  1],\n",
       "       [-1,  1],\n",
       "       [ 1,  1],\n",
       "       [ 1,  1],\n",
       "       [-1, -1],\n",
       "       [-1,  1],\n",
       "       [-1,  1],\n",
       "       [ 1,  1],\n",
       "       [-1,  1],\n",
       "       [-1, -1],\n",
       "       [-1,  1],\n",
       "       [ 1,  1],\n",
       "       [ 1, -1],\n",
       "       [-1, -1],\n",
       "       [ 1, -1],\n",
       "       [-1,  1],\n",
       "       [ 1,  1],\n",
       "       [ 1,  1],\n",
       "       [-1, -1],\n",
       "       [ 1, -1],\n",
       "       [-1, -1],\n",
       "       [-1, -1],\n",
       "       [ 1,  1],\n",
       "       [-1, -1]])"
      ]
     },
     "execution_count": 27,
     "metadata": {},
     "output_type": "execute_result"
    }
   ],
   "source": [
    "directions[:, 0, :]"
   ]
  },
  {
   "cell_type": "markdown",
   "metadata": {},
   "source": [
    "* We can get the distance from the origin by summing over the directional moves"
   ]
  },
  {
   "cell_type": "code",
   "execution_count": 28,
   "metadata": {},
   "outputs": [
    {
     "data": {
      "text/plain": [
       "array([-1,  5])"
      ]
     },
     "execution_count": 28,
     "metadata": {},
     "output_type": "execute_result"
    }
   ],
   "source": [
    "origin + np.sum(directions[:, 0, :], axis=0)"
   ]
  },
  {
   "cell_type": "markdown",
   "metadata": {},
   "source": [
    "* We can use broadcasting to get the end point of each run\n",
    "* No loops!"
   ]
  },
  {
   "cell_type": "code",
   "execution_count": 29,
   "metadata": {},
   "outputs": [
    {
     "data": {
      "text/plain": [
       "array([[ -1,   5],\n",
       "       [  3,   7],\n",
       "       [ -7,   5],\n",
       "       [  1,   1],\n",
       "       [ -5,   1],\n",
       "       [ -5,  -1],\n",
       "       [ -3,  -1],\n",
       "       [  1,  -1],\n",
       "       [ -3,   1],\n",
       "       [ -3,  -1],\n",
       "       [ -1,   5],\n",
       "       [  7,   5],\n",
       "       [  5,   3],\n",
       "       [  7,  -3],\n",
       "       [  1,   1],\n",
       "       [ -9,   7],\n",
       "       [  7,   1],\n",
       "       [ -3,   7],\n",
       "       [ -7,   5],\n",
       "       [  9,   1],\n",
       "       [  5,   7],\n",
       "       [ -5,  -1],\n",
       "       [ -1,  13],\n",
       "       [ -1,   7],\n",
       "       [  5,  -3],\n",
       "       [ -7,  -1],\n",
       "       [  3,  -3],\n",
       "       [-11,  -3],\n",
       "       [  1,   5],\n",
       "       [ -3,  -5],\n",
       "       [  5,   9],\n",
       "       [  3,  -1],\n",
       "       [  1,  -1],\n",
       "       [  1,  -1],\n",
       "       [  1,  -3],\n",
       "       [  5,   1],\n",
       "       [  7,   5],\n",
       "       [ -3,   5],\n",
       "       [ -3,  -3],\n",
       "       [ -7,  -1],\n",
       "       [ -9,   1],\n",
       "       [  3,   1],\n",
       "       [  3,   7],\n",
       "       [ -3,  -3],\n",
       "       [  1,   1],\n",
       "       [ -5,   3],\n",
       "       [  5,  -3],\n",
       "       [ -5,   1],\n",
       "       [  5,   5],\n",
       "       [  7,   7],\n",
       "       [ -1,  -5],\n",
       "       [ -1,  -7],\n",
       "       [ -3,  -1],\n",
       "       [  7,  -5],\n",
       "       [  3,  -5],\n",
       "       [ -5,   1],\n",
       "       [  1,   3],\n",
       "       [ -9,   3],\n",
       "       [ -5,  -3],\n",
       "       [ -5,  -3],\n",
       "       [  5,  11],\n",
       "       [ -9,   1],\n",
       "       [ -3,   3],\n",
       "       [ -3,  -1],\n",
       "       [ -5,   1],\n",
       "       [  1,  -3],\n",
       "       [  7,   1],\n",
       "       [ -3,  11],\n",
       "       [ -3,   5],\n",
       "       [ -5,   1],\n",
       "       [  1,  -3],\n",
       "       [ -9,  -1],\n",
       "       [ -5,   1],\n",
       "       [  7,   1],\n",
       "       [  5,   3],\n",
       "       [ -7,  -1],\n",
       "       [  3,  -5],\n",
       "       [ -7,  -5],\n",
       "       [  9,  -1],\n",
       "       [  3,   1],\n",
       "       [ 13,   3],\n",
       "       [  3,   1],\n",
       "       [ -3,  -9],\n",
       "       [  1,   1],\n",
       "       [  5,  -5],\n",
       "       [  7,   3],\n",
       "       [  3,  -5],\n",
       "       [  3,  -3],\n",
       "       [  3,  -1],\n",
       "       [  3,   7],\n",
       "       [  5,   3],\n",
       "       [ -7,   5],\n",
       "       [  3,  -9],\n",
       "       [  1,  13],\n",
       "       [  3,  -1],\n",
       "       [ -1,   5],\n",
       "       [ -7,   9],\n",
       "       [ -5,   1],\n",
       "       [  7,   9],\n",
       "       [ -1,  -5]])"
      ]
     },
     "execution_count": 29,
     "metadata": {},
     "output_type": "execute_result"
    }
   ],
   "source": [
    "origin + directions.sum(axis=0)"
   ]
  },
  {
   "cell_type": "code",
   "execution_count": 30,
   "metadata": {},
   "outputs": [],
   "source": [
    "end_points = origin + directions.sum(axis=0)"
   ]
  },
  {
   "cell_type": "markdown",
   "metadata": {},
   "source": [
    "* End points now contains the end point of each run\n",
    "* We can get the total distance covered by each using our Euclidean distance formula and broadcasting"
   ]
  },
  {
   "cell_type": "code",
   "execution_count": 31,
   "metadata": {},
   "outputs": [
    {
     "data": {
      "text/plain": [
       "array([  5.09901951,   7.61577311,   8.60232527,   1.41421356,\n",
       "         5.09901951,   5.09901951,   3.16227766,   1.41421356,\n",
       "         3.16227766,   3.16227766,   5.09901951,   8.60232527,\n",
       "         5.83095189,   7.61577311,   1.41421356,  11.40175425,\n",
       "         7.07106781,   7.61577311,   8.60232527,   9.05538514,\n",
       "         8.60232527,   5.09901951,  13.03840481,   7.07106781,\n",
       "         5.83095189,   7.07106781,   4.24264069,  11.40175425,\n",
       "         5.09901951,   5.83095189,  10.29563014,   3.16227766,\n",
       "         1.41421356,   1.41421356,   3.16227766,   5.09901951,\n",
       "         8.60232527,   5.83095189,   4.24264069,   7.07106781,\n",
       "         9.05538514,   3.16227766,   7.61577311,   4.24264069,\n",
       "         1.41421356,   5.83095189,   5.83095189,   5.09901951,\n",
       "         7.07106781,   9.89949494,   5.09901951,   7.07106781,\n",
       "         3.16227766,   8.60232527,   5.83095189,   5.09901951,\n",
       "         3.16227766,   9.48683298,   5.83095189,   5.83095189,\n",
       "        12.08304597,   9.05538514,   4.24264069,   3.16227766,\n",
       "         5.09901951,   3.16227766,   7.07106781,  11.40175425,\n",
       "         5.83095189,   5.09901951,   3.16227766,   9.05538514,\n",
       "         5.09901951,   7.07106781,   5.83095189,   7.07106781,\n",
       "         5.83095189,   8.60232527,   9.05538514,   3.16227766,\n",
       "        13.34166406,   3.16227766,   9.48683298,   1.41421356,\n",
       "         7.07106781,   7.61577311,   5.83095189,   4.24264069,\n",
       "         3.16227766,   7.61577311,   5.83095189,   8.60232527,\n",
       "         9.48683298,  13.03840481,   3.16227766,   5.09901951,\n",
       "        11.40175425,   5.09901951,  11.40175425,   5.09901951])"
      ]
     },
     "execution_count": 31,
     "metadata": {},
     "output_type": "execute_result"
    }
   ],
   "source": [
    "np.sqrt(np.sum((origin - end_points)**2, axis=1))"
   ]
  },
  {
   "cell_type": "code",
   "execution_count": 32,
   "metadata": {},
   "outputs": [],
   "source": [
    "nsteps = 25\n",
    "num_tests = 100\n",
    "\n",
    "origin = [0, 0]\n",
    "\n",
    "def random_path_montecarlo(origin, nsteps, nruns):\n",
    "    directions = np.random.choice([-1, 1], size=(nsteps, nruns, 2))\n",
    "    end_points = origin + directions.sum(axis=0)\n",
    "    dists = np.sqrt(np.sum((origin - end_points)**2, axis=1))\n",
    "    return dists.mean()"
   ]
  },
  {
   "cell_type": "code",
   "execution_count": 33,
   "metadata": {},
   "outputs": [],
   "source": [
    "avg_distance = random_path_montecarlo(origin, nsteps, num_tests)"
   ]
  },
  {
   "cell_type": "code",
   "execution_count": 35,
   "metadata": {},
   "outputs": [
    {
     "name": "stdout",
     "output_type": "stream",
     "text": [
      "6.85217183061\n"
     ]
    }
   ],
   "source": [
    "print(avg_distance)"
   ]
  },
  {
   "cell_type": "markdown",
   "metadata": {},
   "source": [
    "#### Relationship between nsteps and Distance Covered"
   ]
  },
  {
   "cell_type": "code",
   "execution_count": 36,
   "metadata": {},
   "outputs": [],
   "source": [
    "avg_distances = [random_path_montecarlo(origin, n, num_tests) for n in range(1,51)]"
   ]
  },
  {
   "cell_type": "code",
   "execution_count": 37,
   "metadata": {},
   "outputs": [
    {
     "data": {
      "image/png": "[encoded data removed]",
      "text/plain": [
       "<matplotlib.figure.Figure at 0x10fe95518>"
      ]
     },
     "metadata": {},
     "output_type": "display_data"
    }
   ],
   "source": [
    "fig, ax = plt.subplots(figsize=(8,6))\n",
    "ax.plot(avg_distances, \"o\")\n",
    "ax.set_xlabel(\"n\")\n",
    "ax.set_ylabel(\"Avg. Distance\");\n",
    "plt.show();"
   ]
  },
  {
   "cell_type": "code",
   "execution_count": null,
   "metadata": {
    "collapsed": true
   },
   "outputs": [],
   "source": []
  }
 ],
 "metadata": {
  "kernelspec": {
   "display_name": "Python 3",
   "language": "python",
   "name": "python3"
  },
  "language_info": {
   "codemirror_mode": {
    "name": "ipython",
    "version": 3
   },
   "file_extension": ".py",
   "mimetype": "text/x-python",
   "name": "python",
   "nbconvert_exporter": "python",
   "pygments_lexer": "ipython3",
   "version": "3.6.2"
  }
 },
 "nbformat": 4,
 "nbformat_minor": 1
}
