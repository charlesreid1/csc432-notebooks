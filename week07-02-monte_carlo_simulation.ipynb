{
 "cells": [
  {
   "cell_type": "markdown",
   "metadata": {},
   "source": [
    "#### When to use Simulations"
   ]
  },
  {
   "cell_type": "markdown",
   "metadata": {},
   "source": [
    "* not feasible to do the actual experiment\n",
    "* cost is prohibitive\n",
    "* system does not exist yet\n",
    "* want to test alternatives (counterfactuals)"
   ]
  },
  {
   "cell_type": "markdown",
   "metadata": {},
   "source": [
    "#### Monte Carlo Simulation"
   ]
  },
  {
   "cell_type": "markdown",
   "metadata": {},
   "source": [
    "* stochastic simulation involves **pseudorandom numbers**\n",
    "* simulations are often called **Monte Carlo simulations**\n",
    "* A Monte Carlo simulation is a probabilistic model involving an element of chance"
   ]
  },
  {
   "cell_type": "markdown",
   "metadata": {},
   "source": [
    "#### Disadvatageous Aspects"
   ]
  },
  {
   "cell_type": "markdown",
   "metadata": {},
   "source": [
    "* simulation may be expensive in time or money to develop\n",
    "* impossible to test every alternative - so good solutions but not best\n",
    "* need to be careful of conclusions due to probabilistic nature of simulation\n",
    "* results may be difficult to verify for lack of real-world data\n",
    "* cannot be sure we understand what the simulation does (black box)"
   ]
  },
  {
   "cell_type": "markdown",
   "metadata": {},
   "source": [
    "#### History Lesson"
   ]
  },
  {
   "cell_type": "markdown",
   "metadata": {},
   "source": [
    "* Monte Carlo simulation developed by John von Neumann and Stanislaus Ulam during work on Manhattan Project\n",
    "* Know behavior of one neutron but did not have a formula for a system\n",
    "* Needed to know system behavior to construct dampers and shields for atomic bombs\n",
    "* Experimentation, obviously, too time consuming and dangerous"
   ]
  },
  {
   "cell_type": "markdown",
   "metadata": {},
   "source": [
    "#### Linear congruential method"
   ]
  },
  {
   "cell_type": "markdown",
   "metadata": {},
   "source": [
    "* D.J. Lehmer (1949) presented a technig for generating uniformly distributed prn.\n",
    "$$r_0=seed$$\n",
    "$$r_n=\\left(multiplier \\times r_{n-1}+increment\\right) \\text{ mod } modulus\\text{, for }n>0$$\n",
    "* $seed$, $modulus$, and $multiplier$ are positive integers and $increment$ is a nonnegative integer"
   ]
  },
  {
   "cell_type": "markdown",
   "metadata": {},
   "source": [
    "* Let's generate random integers in [0,10]."
   ]
  },
  {
   "cell_type": "markdown",
   "metadata": {},
   "source": [
    "$$r_0 = 10$$\n",
    "$$r_n=(7r_{n-1}+1)\\;mod\\;11\\text{, for }n > 0$$"
   ]
  },
  {
   "cell_type": "code",
   "execution_count": 6,
   "metadata": {},
   "outputs": [],
   "source": [
    "import numpy as np\n",
    "import matplotlib.pyplot as plt"
   ]
  },
  {
   "cell_type": "code",
   "execution_count": 11,
   "metadata": {},
   "outputs": [],
   "source": [
    "r0 = 10\n",
    "rn = r0\n",
    "random_numbers = []\n",
    "for i in range(100):\n",
    "    rn = (7*rn + 1) % 11\n",
    "    random_numbers.append(rn)"
   ]
  },
  {
   "cell_type": "code",
   "execution_count": 16,
   "metadata": {},
   "outputs": [
    {
     "data": {
      "text/plain": [
       "[5, 3, 0, 1, 8, 2, 4, 7, 6, 10]"
      ]
     },
     "execution_count": 16,
     "metadata": {},
     "output_type": "execute_result"
    }
   ],
   "source": [
    "random_numbers[:10]"
   ]
  },
  {
   "cell_type": "code",
   "execution_count": 17,
   "metadata": {},
   "outputs": [
    {
     "data": {
      "image/png": "[encoded data removed]",
      "text/plain": [
       "<matplotlib.figure.Figure at 0x10700d7f0>"
      ]
     },
     "metadata": {},
     "output_type": "display_data"
    }
   ],
   "source": [
    "fig, ax = plt.subplots()\n",
    "ax.hist(random_numbers, bins=10, normed=True);\n",
    "plt.show()"
   ]
  },
  {
   "cell_type": "markdown",
   "metadata": {},
   "source": [
    "* What if we wanted floating point numbers between 0 and 1?\n",
    "* Divide the sequence by the **modulus**\n",
    "* This gives us numbers in [0, 1)\n",
    "* The largest number would be $(modulus-1)/modulus$"
   ]
  },
  {
   "cell_type": "markdown",
   "metadata": {},
   "source": [
    "* **Aside**: **broadcasting**!"
   ]
  },
  {
   "cell_type": "code",
   "execution_count": 18,
   "metadata": {},
   "outputs": [],
   "source": [
    "float_prn = np.array(random_numbers)/11."
   ]
  },
  {
   "cell_type": "code",
   "execution_count": 19,
   "metadata": {},
   "outputs": [
    {
     "data": {
      "text/plain": [
       "array([ 0.45454545,  0.27272727,  0.        ,  0.09090909,  0.72727273,\n",
       "        0.18181818,  0.36363636,  0.63636364,  0.54545455,  0.90909091])"
      ]
     },
     "execution_count": 19,
     "metadata": {},
     "output_type": "execute_result"
    }
   ],
   "source": [
    "float_prn[:10]"
   ]
  },
  {
   "cell_type": "markdown",
   "metadata": {},
   "source": [
    "* Not all choices of multiplier and modulus are good\n",
    "* Consider a choice of 5 and 11\n",
    "$$r_0 = 10$$\n",
    "$$r_1 = (5\\times10+1)\\text{ mod }11=7$$\n",
    "$$r_2 = (5\\times7+1)\\text{ mod }11=3$$\n",
    "$$r_3 = (5\\times3+1)\\text{ mod }11=5$$\n",
    "$$r_4 = (5\\times5+1)\\text{ mod }11=4$$\n",
    "$$r_5 = (5\\times4+1)\\text{ mod }11=10$$\n",
    "$$r_6 = (5\\times10+1)\\text{ mod }11=7$$\n",
    "$$\\vdots$$"
   ]
  },
  {
   "cell_type": "code",
   "execution_count": 20,
   "metadata": {},
   "outputs": [],
   "source": [
    "r0 = 10\n",
    "rn = r0\n",
    "random_numbers = []\n",
    "for i in range(15):\n",
    "    rn = (5*rn + 1) % 11\n",
    "    random_numbers.append(rn)"
   ]
  },
  {
   "cell_type": "code",
   "execution_count": 21,
   "metadata": {},
   "outputs": [
    {
     "data": {
      "text/plain": [
       "[7, 3, 5, 4, 10, 7, 3, 5, 4, 10, 7, 3, 5, 4, 10]"
      ]
     },
     "execution_count": 21,
     "metadata": {},
     "output_type": "execute_result"
    }
   ],
   "source": [
    "random_numbers"
   ]
  },
  {
   "cell_type": "markdown",
   "metadata": {},
   "source": [
    "* This is an example of what is called the **periodicty** of a PRNG\n",
    "* The **period** is the maximum length of a repition-free sequence for all possible seeds\n",
    "* Best choices of $multiplier$ and $modulus$ have been researched heavily\n",
    "* Modulus is often max integer, such as, $2^{31}-1$, platform dependent\n",
    "* For this modulus, a multiplier of 16,807, and an increment of 0 this PNRG produces a sequence of $2^{31}-2$ elements"
   ]
  },
  {
   "cell_type": "markdown",
   "metadata": {},
   "source": [
    "* another potential problem is non-randomness"
   ]
  },
  {
   "cell_type": "code",
   "execution_count": 22,
   "metadata": {},
   "outputs": [],
   "source": [
    "r0 = 10\n",
    "rn = r0\n",
    "random_numbers = []\n",
    "for i in range(10):\n",
    "    rn = (2*rn) % 11\n",
    "    random_numbers.append(rn)"
   ]
  },
  {
   "cell_type": "code",
   "execution_count": 23,
   "metadata": {},
   "outputs": [
    {
     "data": {
      "text/plain": [
       "[9, 7, 3, 6, 1, 2, 4, 8, 5, 10]"
      ]
     },
     "execution_count": 23,
     "metadata": {},
     "output_type": "execute_result"
    }
   ],
   "source": [
    "random_numbers"
   ]
  },
  {
   "cell_type": "code",
   "execution_count": 24,
   "metadata": {},
   "outputs": [
    {
     "data": {
      "text/plain": [
       "[1, 2, 4, 8]"
      ]
     },
     "execution_count": 24,
     "metadata": {},
     "output_type": "execute_result"
    }
   ],
   "source": [
    "random_numbers[4:8]"
   ]
  },
  {
   "cell_type": "markdown",
   "metadata": {},
   "source": [
    "#### Area Through Monte Carlo Simulation"
   ]
  },
  {
   "cell_type": "markdown",
   "metadata": {},
   "source": [
    "* Much of calculus is concerned with finding the area between a curve and the x-axis over a certain interval\n",
    "* With integration we can compute the exact area of many functions\n",
    "* For other, this is impossible\n",
    "* For example, take \n",
    "\n",
    "$$f(x)=\\sqrt{cos^2(x)+1}$$\n",
    "\n",
    "between $0$ and $2$."
   ]
  },
  {
   "cell_type": "code",
   "execution_count": 25,
   "metadata": {},
   "outputs": [],
   "source": [
    "import matplotlib.pyplot as plt"
   ]
  },
  {
   "cell_type": "code",
   "execution_count": 26,
   "metadata": {},
   "outputs": [],
   "source": [
    "def func(x):\n",
    "    return np.sqrt(np.cos(x)**2+1)"
   ]
  },
  {
   "cell_type": "code",
   "execution_count": 28,
   "metadata": {},
   "outputs": [
    {
     "data": {
      "image/png": "[encoded data removed]",
      "text/plain": [
       "<matplotlib.figure.Figure at 0x10705e160>"
      ]
     },
     "metadata": {},
     "output_type": "display_data"
    },
    {
     "data": {
      "image/png": "[encoded data removed]",
      "text/plain": [
       "<matplotlib.figure.Figure at 0x107027c50>"
      ]
     },
     "metadata": {},
     "output_type": "display_data"
    }
   ],
   "source": [
    "x = np.linspace(0,2,100)\n",
    "\n",
    "fig, ax = plt.subplots(figsize=(8,6))\n",
    "\n",
    "ax.plot(x, func(x))\n",
    "ax.set_ylim(0, 1.6);\n",
    "plt.show()"
   ]
  },
  {
   "cell_type": "markdown",
   "metadata": {},
   "source": [
    "* we cannot integrate to find the area under the curve because this function does not have an antiderivative that is an elementary function"
   ]
  },
  {
   "cell_type": "markdown",
   "metadata": {},
   "source": [
    "#### \"Throwing Darts for Area\""
   ]
  },
  {
   "cell_type": "markdown",
   "metadata": {},
   "source": [
    "$$\\text{area}\\approx(\\text{area of enclosing rectangle})\\left(\\frac{\\text{# darts below}}{\\text{# darts}}\\right)$$"
   ]
  },
  {
   "cell_type": "markdown",
   "metadata": {},
   "source": [
    "* Take some bounding rectangle, say $2\\times1.5$.\n",
    "* area = $(2)(1.5)=3$\n",
    "* If we throw 1000 darts and 778 of them hit below the graph, then 778/1000=.778=77.8%\n",
    "* This is our estimate of the percentage of the rectangle below the curve\n",
    "$$area\\approx3.0\\times778/1000=2.334$$"
   ]
  },
  {
   "cell_type": "markdown",
   "metadata": {},
   "source": [
    "* This is an example of a method called **rejection sampling** or **acceptance-rejection sampling**\n",
    "* The candidate distribution here is the proposal distribution (hence the rectangle)"
   ]
  },
  {
   "cell_type": "markdown",
   "metadata": {},
   "source": [
    "**Review Question** Write code that does this. Steps:\n",
    "\n",
    "1. Pick recangular bounds for x - (0, 2) - and y - (0, 1.5)\n",
    "2. Use `np.random.uniform` to draw 1000 x points and 1000 y points.\n",
    "3. Calculate the true values of y at your sample x points.\n",
    "4. Plot the random points on the graph and the curve.\n",
    "5. What percentage of the random y points are below the true y points?\n",
    "6. What is the approximate area under the curve?"
   ]
  }
 ],
 "metadata": {
  "kernelspec": {
   "display_name": "Python 3",
   "language": "python",
   "name": "python3"
  },
  "language_info": {
   "codemirror_mode": {
    "name": "ipython",
    "version": 3
   },
   "file_extension": ".py",
   "mimetype": "text/x-python",
   "name": "python",
   "nbconvert_exporter": "python",
   "pygments_lexer": "ipython3",
   "version": "3.6.2"
  }
 },
 "nbformat": 4,
 "nbformat_minor": 1
}
