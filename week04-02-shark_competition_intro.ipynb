{
 "cells": [
  {
   "cell_type": "markdown",
   "metadata": {},
   "source": [
    "### Competition Model - White Tip Sharks vs Black Tip Sharps"
   ]
  },
  {
   "cell_type": "markdown",
   "metadata": {},
   "source": [
    "* two species competing for resources\n",
    "* number of deaths is proportional to both pop. \n",
    "  size and pop. size of other species\n",
    "* For population $B$ and population $W$, $\\text{deaths}\\propto BW$"
   ]
  },
  {
   "cell_type": "markdown",
   "metadata": {},
   "source": [
    "* $$\\Delta\\left(\\text{births of WTS}\\right)=g_{w}W$$\n",
    "* $$\\Delta\\left(\\text{births of BTS}\\right)=g_{b}B$$\n",
    "* $$\\Delta\\left(\\text{deaths of WTS}\\right) = d_{w}BW$$\n",
    "* $$\\Delta\\left(\\text{deaths of BTS}\\right) = d_{b}BW$$\n",
    "\n",
    "where $d_{w}$ and $d_{b}$ are the respective death proportionality constants for each species and\n",
    "$g_{w}$ and $g_{b}$ are the respective birth rates."
   ]
  }
 ],
 "metadata": {
  "kernelspec": {
   "display_name": "Python 3",
   "language": "python",
   "name": "python3"
  },
  "language_info": {
   "codemirror_mode": {
    "name": "ipython",
    "version": 3
   },
   "file_extension": ".py",
   "mimetype": "text/x-python",
   "name": "python",
   "nbconvert_exporter": "python",
   "pygments_lexer": "ipython3",
   "version": "3.6.2"
  }
 },
 "nbformat": 4,
 "nbformat_minor": 1
}
