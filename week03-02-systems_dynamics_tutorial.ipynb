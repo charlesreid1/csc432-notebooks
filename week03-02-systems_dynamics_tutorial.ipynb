{
 "cells": [
  {
   "cell_type": "markdown",
   "metadata": {},
   "source": [
    "### Terminology and Diagrams"
   ]
  },
  {
   "cell_type": "markdown",
   "metadata": {},
   "source": [
    "**Stock variables** are represented in a graphical model by a box. A stock variable is measured at a point in time. It may have accumulated in the past, and it may change in the future.\n",
    "\n",
    "A **derived stock variable** is represented in a graphical model by any white circle that has an incoming arrow from a stock variable or from another derived stock variable. It is just another stock variable, so we are interested in keeping up with its value over time. The difference from a regular stock variable, however, is that it is usually based on a simple calculation from another stock variable. So it's usually enough to keep with the stock variable and use those values to obtain the derived stock value at any point in time.\n",
    "\n",
    "An **(ordinary) variable** is represented in a graphical model by a white circle that does not have any incoming arrows from a (derived) stock variable. These are scalar variables in the simulation program. They can be constant or can change over time; however, we won't need to keep track of them over time.\n",
    "\n",
    "A **flow** is depicted in a graphical model by a gray oval. It represents a quantity whose value will change over time, and which will influence the value of some stock variable(s). It is a dynamic scalar, meaning its value will change over time, so it will be continually computed in the main simulation."
   ]
  },
  {
   "cell_type": "markdown",
   "metadata": {},
   "source": [
    "**Quick review question 1** Consider figure 3.5.1 in the textbook. Which of the symbols in the graphical model correspond to stock variables? Ordinary variables? Derived stock variables? Flows?"
   ]
  },
  {
   "cell_type": "markdown",
   "metadata": {},
   "source": [
    "### Modeling Procedure"
   ]
  },
  {
   "cell_type": "markdown",
   "metadata": {},
   "source": [
    "Computationally, our simulations will consist of a loop that run through for a known amount of `time`. You can think of each run through a loop as a tick on a virtual clock, during which the variables in our system will change. When the simulation is over, we can observe the behavior of the variables in the system.\n",
    "\n",
    "The following general procedure will be useful for writing simulations in Python:\n",
    "\n",
    "1. Identify the **ordinary variables** -- circles with no incoming arrows. If these variables are constant, then create variables to represent each one.\n",
    "2. Identify the **derived variables** -- circles whose only incoming arrows are from other circles that are already defined as variables. Create a variable to represent each one using a formula. Do this until the only remaining circles are pointed to by something other than a circle.\n",
    "3. Create an array for each **stock variable**. Set the first value of the array to its initial condition.\n",
    "4. Run the simulation for the specified total time. Each time through the loop.\n",
    "  \n",
    "  a. Determine the temporary values of any flows and remaining ordinary variables. These values could be based on an equation that takes other current values of variables, or it could be a special value based on the current time or other things. For instance, a \"pulse,\" or \"shock,\" variable that depends on time.\n",
    "  \n",
    "  b. Set the next value for each array to its new value on the next clock tick.\n",
    "\n",
    "5. If you wish to examine any **derived stock variables**, create them now.\n",
    "6. Plot any variables of interest."
   ]
  },
  {
   "cell_type": "markdown",
   "metadata": {},
   "source": [
    "## Solving Differential Equations"
   ]
  },
  {
   "cell_type": "markdown",
   "metadata": {},
   "source": [
    "### Unconstrained Growth"
   ]
  },
  {
   "cell_type": "markdown",
   "metadata": {},
   "source": [
    "Initial population of 100, rate of change of the population is 10%. This suggests the following **differential equation**\n",
    "\n",
    "$$\\frac{dP}{dt}=0.1P$$\n",
    "\n",
    "$$P_{0}=100$$"
   ]
  },
  {
   "cell_type": "markdown",
   "metadata": {},
   "source": [
    "#### Imports"
   ]
  },
  {
   "cell_type": "code",
   "execution_count": 7,
   "metadata": {},
   "outputs": [],
   "source": [
    "from scipy import integrate\n",
    "import matplotlib.pyplot as plt\n",
    "import numpy as np"
   ]
  },
  {
   "cell_type": "code",
   "execution_count": 8,
   "metadata": {},
   "outputs": [],
   "source": [
    "popul_0 = 100"
   ]
  },
  {
   "cell_type": "code",
   "execution_count": 9,
   "metadata": {},
   "outputs": [],
   "source": [
    "dt = .1 # every 1/10 of, say, an hour"
   ]
  },
  {
   "cell_type": "code",
   "execution_count": 10,
   "metadata": {},
   "outputs": [],
   "source": [
    "def dPdt(popul, t, rate=.1):\n",
    "    return rate*popul"
   ]
  },
  {
   "cell_type": "code",
   "execution_count": 11,
   "metadata": {},
   "outputs": [],
   "source": [
    "time_points = np.arange(0, 12, dt)"
   ]
  },
  {
   "cell_type": "code",
   "execution_count": 12,
   "metadata": {},
   "outputs": [],
   "source": [
    "growth_rate = .1"
   ]
  },
  {
   "cell_type": "code",
   "execution_count": 13,
   "metadata": {},
   "outputs": [],
   "source": [
    "growth = integrate.odeint(dPdt, popul_0, time_points, args=(growth_rate,))"
   ]
  },
  {
   "cell_type": "code",
   "execution_count": 14,
   "metadata": {},
   "outputs": [],
   "source": [
    "growth2 = integrate.odeint(dPdt, popul_0, time_points, args=(.2,))"
   ]
  },
  {
   "cell_type": "code",
   "execution_count": 15,
   "metadata": {},
   "outputs": [
    {
     "data": {
      "text/plain": [
       "<matplotlib.legend.Legend at 0x10deabc18>"
      ]
     },
     "execution_count": 15,
     "metadata": {},
     "output_type": "execute_result"
    }
   ],
   "source": [
    "fig, ax = plt.subplots(figsize=(10,6), \n",
    "                        subplot_kw=dict(xlabel=\"Time\", \n",
    "                                        ylabel=\"Population\"))\n",
    "ax.plot(time_points, growth, label=\"Growth Rate - .1\");\n",
    "ax.plot(time_points, growth2, 'r', label=\"Growth Rate - .2\");\n",
    "ax.legend()"
   ]
  },
  {
   "cell_type": "markdown",
   "metadata": {},
   "source": [
    "### Aside: Testing"
   ]
  },
  {
   "cell_type": "markdown",
   "metadata": {},
   "source": [
    "Testing is **important** in almost any setting in which you're going to be writing code."
   ]
  },
  {
   "cell_type": "code",
   "execution_count": 16,
   "metadata": {},
   "outputs": [],
   "source": [
    "def popul(growth_rate, time_points, init_pop):\n",
    "    growth = init_pop * np.exp(growth_rate*time_points)\n",
    "    if growth.ndim == 1:\n",
    "        growth = growth[:,None]\n",
    "    return growth"
   ]
  },
  {
   "cell_type": "code",
   "execution_count": 17,
   "metadata": {},
   "outputs": [],
   "source": [
    "known_growth = popul(growth_rate, time_points, popul_0)"
   ]
  },
  {
   "cell_type": "code",
   "execution_count": 18,
   "metadata": {},
   "outputs": [
    {
     "data": {
      "text/plain": [
       "5.0755487563947099e-06"
      ]
     },
     "execution_count": 18,
     "metadata": {},
     "output_type": "execute_result"
    }
   ],
   "source": [
    "np.max(np.abs(known_growth - growth))"
   ]
  },
  {
   "cell_type": "code",
   "execution_count": 19,
   "metadata": {},
   "outputs": [],
   "source": [
    "np.testing.assert_almost_equal(growth, known_growth, 5)"
   ]
  },
  {
   "cell_type": "markdown",
   "metadata": {},
   "source": [
    "### Under the Hood"
   ]
  },
  {
   "cell_type": "code",
   "execution_count": 20,
   "metadata": {},
   "outputs": [],
   "source": [
    "growth_res = integrate.odeint(dPdt, popul_0, time_points, \n",
    "                              args=(growth_rate,), full_output=True)"
   ]
  },
  {
   "cell_type": "code",
   "execution_count": 21,
   "metadata": {},
   "outputs": [
    {
     "data": {
      "text/plain": [
       "{'hu': array([ 0.04019281,  0.12646782,  0.12646782,  0.12646782,  0.12646782,\n",
       "         0.12646782,  0.25293565,  0.25293565,  0.25293565,  0.25293565,\n",
       "         0.25293565,  0.25293565,  0.25293565,  0.25293565,  0.25293565,\n",
       "         0.25293565,  0.25293565,  0.25293565,  0.62837662,  0.62837662,\n",
       "         0.62837662,  0.62837662,  0.62837662,  0.62837662,  0.62837662,\n",
       "         0.62837662,  0.62837662,  0.62837662,  0.62837662,  0.62837662,\n",
       "         0.62837662,  0.62837662,  0.62837662,  0.62837662,  0.62837662,\n",
       "         0.62837662,  0.62837662,  0.62837662,  0.62837662,  0.62837662,\n",
       "         0.62837662,  0.62837662,  0.62837662,  0.62837662,  0.62837662,\n",
       "         0.62837662,  0.62837662,  0.62837662,  0.62837662,  0.62837662,\n",
       "         0.62837662,  0.62837662,  0.62837662,  0.62837662,  0.62837662,\n",
       "         0.62837662,  1.2068562 ,  1.2068562 ,  1.2068562 ,  1.2068562 ,\n",
       "         1.2068562 ,  1.2068562 ,  1.2068562 ,  1.2068562 ,  1.2068562 ,\n",
       "         1.2068562 ,  1.2068562 ,  1.2068562 ,  0.98859529,  0.98859529,\n",
       "         0.98859529,  0.98859529,  0.98859529,  0.98859529,  0.98859529,\n",
       "         0.98859529,  0.98859529,  0.98859529,  0.98859529,  0.98859529,\n",
       "         0.98859529,  0.98859529,  0.98859529,  0.98859529,  0.98859529,\n",
       "         0.98859529,  0.98859529,  0.98859529,  0.98859529,  0.98859529,\n",
       "         0.98859529,  0.98859529,  0.98859529,  0.98859529,  0.98859529,\n",
       "         0.98859529,  0.98859529,  0.98859529,  0.98859529,  0.98859529,\n",
       "         0.98859529,  0.98859529,  0.98859529,  0.98859529,  0.98859529,\n",
       "         0.98859529,  0.98859529,  0.98859529,  0.98859529,  0.98859529,\n",
       "         0.98859529,  0.98859529,  0.98859529,  0.98859529,  0.98859529,\n",
       "         0.98859529,  0.98859529,  0.98859529,  0.98859529]),\n",
       " 'imxer': -1,\n",
       " 'leniw': 21,\n",
       " 'lenrw': 36,\n",
       " 'message': 'Integration successful.',\n",
       " 'mused': array([1, 1, 1, 1, 1, 1, 1, 1, 1, 1, 1, 1, 1, 1, 1, 1, 1, 1, 1, 1, 1, 1, 1,\n",
       "        1, 1, 1, 1, 1, 1, 1, 1, 1, 1, 1, 1, 1, 1, 1, 1, 1, 1, 1, 1, 1, 1, 1,\n",
       "        1, 1, 1, 1, 1, 1, 1, 1, 1, 1, 1, 1, 1, 1, 1, 1, 1, 1, 1, 1, 1, 1, 1,\n",
       "        1, 1, 1, 1, 1, 1, 1, 1, 1, 1, 1, 1, 1, 1, 1, 1, 1, 1, 1, 1, 1, 1, 1,\n",
       "        1, 1, 1, 1, 1, 1, 1, 1, 1, 1, 1, 1, 1, 1, 1, 1, 1, 1, 1, 1, 1, 1, 1,\n",
       "        1, 1, 1, 1], dtype=int32),\n",
       " 'nfe': array([11, 15, 17, 19, 19, 21, 23, 23, 25, 25, 25, 27, 27, 29, 29, 29, 31,\n",
       "        31, 33, 33, 33, 33, 33, 33, 33, 35, 35, 35, 35, 35, 35, 37, 37, 37,\n",
       "        37, 37, 37, 39, 39, 39, 39, 39, 39, 39, 41, 41, 41, 41, 41, 41, 43,\n",
       "        43, 43, 43, 43, 43, 47, 47, 47, 47, 47, 47, 47, 47, 47, 47, 47, 47,\n",
       "        51, 51, 51, 51, 51, 51, 51, 51, 51, 51, 53, 53, 53, 53, 53, 53, 53,\n",
       "        53, 53, 53, 55, 55, 55, 55, 55, 55, 55, 55, 55, 55, 57, 57, 57, 57,\n",
       "        57, 57, 57, 57, 57, 57, 59, 59, 59, 59, 59, 59, 59, 59, 59, 59, 61], dtype=int32),\n",
       " 'nje': array([0, 0, 0, 0, 0, 0, 0, 0, 0, 0, 0, 0, 0, 0, 0, 0, 0, 0, 0, 0, 0, 0, 0,\n",
       "        0, 0, 0, 0, 0, 0, 0, 0, 0, 0, 0, 0, 0, 0, 0, 0, 0, 0, 0, 0, 0, 0, 0,\n",
       "        0, 0, 0, 0, 0, 0, 0, 0, 0, 0, 0, 0, 0, 0, 0, 0, 0, 0, 0, 0, 0, 0, 0,\n",
       "        0, 0, 0, 0, 0, 0, 0, 0, 0, 0, 0, 0, 0, 0, 0, 0, 0, 0, 0, 0, 0, 0, 0,\n",
       "        0, 0, 0, 0, 0, 0, 0, 0, 0, 0, 0, 0, 0, 0, 0, 0, 0, 0, 0, 0, 0, 0, 0,\n",
       "        0, 0, 0, 0], dtype=int32),\n",
       " 'nqu': array([2, 3, 3, 3, 3, 3, 4, 4, 4, 4, 4, 4, 4, 4, 4, 4, 4, 4, 5, 5, 5, 5, 5,\n",
       "        5, 5, 5, 5, 5, 5, 5, 5, 5, 5, 5, 5, 5, 5, 5, 5, 5, 5, 5, 5, 5, 5, 5,\n",
       "        5, 5, 5, 5, 5, 5, 5, 5, 5, 5, 6, 6, 6, 6, 6, 6, 6, 6, 6, 6, 6, 6, 6,\n",
       "        6, 6, 6, 6, 6, 6, 6, 6, 6, 6, 6, 6, 6, 6, 6, 6, 6, 6, 6, 6, 6, 6, 6,\n",
       "        6, 6, 6, 6, 6, 6, 6, 6, 6, 6, 6, 6, 6, 6, 6, 6, 6, 6, 6, 6, 6, 6, 6,\n",
       "        6, 6, 6, 6], dtype=int32),\n",
       " 'nst': array([ 5,  6,  7,  8,  8,  9, 10, 10, 11, 11, 11, 12, 12, 13, 13, 13, 14,\n",
       "        14, 15, 15, 15, 15, 15, 15, 15, 16, 16, 16, 16, 16, 16, 17, 17, 17,\n",
       "        17, 17, 17, 18, 18, 18, 18, 18, 18, 18, 19, 19, 19, 19, 19, 19, 20,\n",
       "        20, 20, 20, 20, 20, 21, 21, 21, 21, 21, 21, 21, 21, 21, 21, 21, 21,\n",
       "        22, 22, 22, 22, 22, 22, 22, 22, 22, 22, 23, 23, 23, 23, 23, 23, 23,\n",
       "        23, 23, 23, 24, 24, 24, 24, 24, 24, 24, 24, 24, 24, 25, 25, 25, 25,\n",
       "        25, 25, 25, 25, 25, 25, 26, 26, 26, 26, 26, 26, 26, 26, 26, 26, 27], dtype=int32),\n",
       " 'tcur': array([  0.12060283,   0.24707065,   0.37353848,   0.5000063 ,\n",
       "          0.5000063 ,   0.62647412,   0.87940977,   0.87940977,\n",
       "          1.13234542,   1.13234542,   1.13234542,   1.38528106,\n",
       "          1.38528106,   1.63821671,   1.63821671,   1.63821671,\n",
       "          1.89115236,   1.89115236,   2.51952898,   2.51952898,\n",
       "          2.51952898,   2.51952898,   2.51952898,   2.51952898,\n",
       "          2.51952898,   3.1479056 ,   3.1479056 ,   3.1479056 ,\n",
       "          3.1479056 ,   3.1479056 ,   3.1479056 ,   3.77628223,\n",
       "          3.77628223,   3.77628223,   3.77628223,   3.77628223,\n",
       "          3.77628223,   4.40465885,   4.40465885,   4.40465885,\n",
       "          4.40465885,   4.40465885,   4.40465885,   4.40465885,\n",
       "          5.03303547,   5.03303547,   5.03303547,   5.03303547,\n",
       "          5.03303547,   5.03303547,   5.6614121 ,   5.6614121 ,\n",
       "          5.6614121 ,   5.6614121 ,   5.6614121 ,   5.6614121 ,\n",
       "          6.8682683 ,   6.8682683 ,   6.8682683 ,   6.8682683 ,\n",
       "          6.8682683 ,   6.8682683 ,   6.8682683 ,   6.8682683 ,\n",
       "          6.8682683 ,   6.8682683 ,   6.8682683 ,   6.8682683 ,\n",
       "          7.85686359,   7.85686359,   7.85686359,   7.85686359,\n",
       "          7.85686359,   7.85686359,   7.85686359,   7.85686359,\n",
       "          7.85686359,   7.85686359,   8.84545889,   8.84545889,\n",
       "          8.84545889,   8.84545889,   8.84545889,   8.84545889,\n",
       "          8.84545889,   8.84545889,   8.84545889,   8.84545889,\n",
       "          9.83405418,   9.83405418,   9.83405418,   9.83405418,\n",
       "          9.83405418,   9.83405418,   9.83405418,   9.83405418,\n",
       "          9.83405418,   9.83405418,  10.82264948,  10.82264948,\n",
       "         10.82264948,  10.82264948,  10.82264948,  10.82264948,\n",
       "         10.82264948,  10.82264948,  10.82264948,  10.82264948,\n",
       "         11.81124477,  11.81124477,  11.81124477,  11.81124477,\n",
       "         11.81124477,  11.81124477,  11.81124477,  11.81124477,\n",
       "         11.81124477,  11.81124477,  12.79984006]),\n",
       " 'tolsf': array([ 0.,  0.,  0.,  0.,  0.,  0.,  0.,  0.,  0.,  0.,  0.,  0.,  0.,\n",
       "         0.,  0.,  0.,  0.,  0.,  0.,  0.,  0.,  0.,  0.,  0.,  0.,  0.,\n",
       "         0.,  0.,  0.,  0.,  0.,  0.,  0.,  0.,  0.,  0.,  0.,  0.,  0.,\n",
       "         0.,  0.,  0.,  0.,  0.,  0.,  0.,  0.,  0.,  0.,  0.,  0.,  0.,\n",
       "         0.,  0.,  0.,  0.,  0.,  0.,  0.,  0.,  0.,  0.,  0.,  0.,  0.,\n",
       "         0.,  0.,  0.,  0.,  0.,  0.,  0.,  0.,  0.,  0.,  0.,  0.,  0.,\n",
       "         0.,  0.,  0.,  0.,  0.,  0.,  0.,  0.,  0.,  0.,  0.,  0.,  0.,\n",
       "         0.,  0.,  0.,  0.,  0.,  0.,  0.,  0.,  0.,  0.,  0.,  0.,  0.,\n",
       "         0.,  0.,  0.,  0.,  0.,  0.,  0.,  0.,  0.,  0.,  0.,  0.,  0.,\n",
       "         0.,  0.]),\n",
       " 'tsw': array([ 0.,  0.,  0.,  0.,  0.,  0.,  0.,  0.,  0.,  0.,  0.,  0.,  0.,\n",
       "         0.,  0.,  0.,  0.,  0.,  0.,  0.,  0.,  0.,  0.,  0.,  0.,  0.,\n",
       "         0.,  0.,  0.,  0.,  0.,  0.,  0.,  0.,  0.,  0.,  0.,  0.,  0.,\n",
       "         0.,  0.,  0.,  0.,  0.,  0.,  0.,  0.,  0.,  0.,  0.,  0.,  0.,\n",
       "         0.,  0.,  0.,  0.,  0.,  0.,  0.,  0.,  0.,  0.,  0.,  0.,  0.,\n",
       "         0.,  0.,  0.,  0.,  0.,  0.,  0.,  0.,  0.,  0.,  0.,  0.,  0.,\n",
       "         0.,  0.,  0.,  0.,  0.,  0.,  0.,  0.,  0.,  0.,  0.,  0.,  0.,\n",
       "         0.,  0.,  0.,  0.,  0.,  0.,  0.,  0.,  0.,  0.,  0.,  0.,  0.,\n",
       "         0.,  0.,  0.,  0.,  0.,  0.,  0.,  0.,  0.,  0.,  0.,  0.,  0.,\n",
       "         0.,  0.])}"
      ]
     },
     "execution_count": 21,
     "metadata": {},
     "output_type": "execute_result"
    }
   ],
   "source": [
    "growth_res[1]"
   ]
  },
  {
   "cell_type": "code",
   "execution_count": 22,
   "metadata": {},
   "outputs": [
    {
     "data": {
      "text/plain": [
       "array([  0. ,   0.1,   0.2,   0.3,   0.4,   0.5,   0.6,   0.7,   0.8,\n",
       "         0.9,   1. ,   1.1,   1.2,   1.3,   1.4,   1.5,   1.6,   1.7,\n",
       "         1.8,   1.9,   2. ,   2.1,   2.2,   2.3,   2.4,   2.5,   2.6,\n",
       "         2.7,   2.8,   2.9,   3. ,   3.1,   3.2,   3.3,   3.4,   3.5,\n",
       "         3.6,   3.7,   3.8,   3.9,   4. ,   4.1,   4.2,   4.3,   4.4,\n",
       "         4.5,   4.6,   4.7,   4.8,   4.9,   5. ,   5.1,   5.2,   5.3,\n",
       "         5.4,   5.5,   5.6,   5.7,   5.8,   5.9,   6. ,   6.1,   6.2,\n",
       "         6.3,   6.4,   6.5,   6.6,   6.7,   6.8,   6.9,   7. ,   7.1,\n",
       "         7.2,   7.3,   7.4,   7.5,   7.6,   7.7,   7.8,   7.9,   8. ,\n",
       "         8.1,   8.2,   8.3,   8.4,   8.5,   8.6,   8.7,   8.8,   8.9,\n",
       "         9. ,   9.1,   9.2,   9.3,   9.4,   9.5,   9.6,   9.7,   9.8,\n",
       "         9.9,  10. ,  10.1,  10.2,  10.3,  10.4,  10.5,  10.6,  10.7,\n",
       "        10.8,  10.9,  11. ,  11.1,  11.2,  11.3,  11.4,  11.5,  11.6,\n",
       "        11.7,  11.8,  11.9])"
      ]
     },
     "execution_count": 22,
     "metadata": {},
     "output_type": "execute_result"
    }
   ],
   "source": [
    "time_points"
   ]
  },
  {
   "cell_type": "code",
   "execution_count": 23,
   "metadata": {},
   "outputs": [
    {
     "data": {
      "text/plain": [
       "2"
      ]
     },
     "execution_count": 23,
     "metadata": {},
     "output_type": "execute_result"
    }
   ],
   "source": [
    "len(growth_res)"
   ]
  },
  {
   "cell_type": "code",
   "execution_count": 24,
   "metadata": {},
   "outputs": [
    {
     "data": {
      "text/plain": [
       "dict_keys(['hu', 'tcur', 'tolsf', 'tsw', 'nst', 'nfe', 'nje', 'nqu', 'imxer', 'lenrw', 'leniw', 'mused', 'message'])"
      ]
     },
     "execution_count": 24,
     "metadata": {},
     "output_type": "execute_result"
    }
   ],
   "source": [
    "growth_res[1].keys()"
   ]
  },
  {
   "cell_type": "code",
   "execution_count": 25,
   "metadata": {},
   "outputs": [
    {
     "data": {
      "text/plain": [
       "array([ 0.04019281,  0.12646782,  0.12646782,  0.12646782,  0.12646782,\n",
       "        0.12646782,  0.25293565,  0.25293565,  0.25293565,  0.25293565,\n",
       "        0.25293565,  0.25293565,  0.25293565,  0.25293565,  0.25293565,\n",
       "        0.25293565,  0.25293565,  0.25293565,  0.62837662,  0.62837662,\n",
       "        0.62837662,  0.62837662,  0.62837662,  0.62837662,  0.62837662,\n",
       "        0.62837662,  0.62837662,  0.62837662,  0.62837662,  0.62837662,\n",
       "        0.62837662,  0.62837662,  0.62837662,  0.62837662,  0.62837662,\n",
       "        0.62837662,  0.62837662,  0.62837662,  0.62837662,  0.62837662,\n",
       "        0.62837662,  0.62837662,  0.62837662,  0.62837662,  0.62837662,\n",
       "        0.62837662,  0.62837662,  0.62837662,  0.62837662,  0.62837662,\n",
       "        0.62837662,  0.62837662,  0.62837662,  0.62837662,  0.62837662,\n",
       "        0.62837662,  1.2068562 ,  1.2068562 ,  1.2068562 ,  1.2068562 ,\n",
       "        1.2068562 ,  1.2068562 ,  1.2068562 ,  1.2068562 ,  1.2068562 ,\n",
       "        1.2068562 ,  1.2068562 ,  1.2068562 ,  0.98859529,  0.98859529,\n",
       "        0.98859529,  0.98859529,  0.98859529,  0.98859529,  0.98859529,\n",
       "        0.98859529,  0.98859529,  0.98859529,  0.98859529,  0.98859529,\n",
       "        0.98859529,  0.98859529,  0.98859529,  0.98859529,  0.98859529,\n",
       "        0.98859529,  0.98859529,  0.98859529,  0.98859529,  0.98859529,\n",
       "        0.98859529,  0.98859529,  0.98859529,  0.98859529,  0.98859529,\n",
       "        0.98859529,  0.98859529,  0.98859529,  0.98859529,  0.98859529,\n",
       "        0.98859529,  0.98859529,  0.98859529,  0.98859529,  0.98859529,\n",
       "        0.98859529,  0.98859529,  0.98859529,  0.98859529,  0.98859529,\n",
       "        0.98859529,  0.98859529,  0.98859529,  0.98859529,  0.98859529,\n",
       "        0.98859529,  0.98859529,  0.98859529,  0.98859529])"
      ]
     },
     "execution_count": 25,
     "metadata": {},
     "output_type": "execute_result"
    }
   ],
   "source": [
    "growth_res[1][\"hu\"]"
   ]
  },
  {
   "cell_type": "markdown",
   "metadata": {},
   "source": [
    "**See also** [`scipy.integrate.ode`](http://docs.scipy.org/doc/scipy/reference/generated/scipy.integrate.ode.html#scipy.integrate.ode). We will discuss this in greater detail in the future. There are also the [PyDSTool](http://www.ni.gsu.edu/~rclewley/PyDSTool/FrontPage.html) package, [PyGSL](http://pygsl.sourceforge.net/reference/pygsl/index.html) wrappers, and [FuncDesigner](http://www.openopt.org/FuncDesigner) as part of the [OpenOpt](http://openopt.org/Welcome) suite."
   ]
  },
  {
   "cell_type": "markdown",
   "metadata": {},
   "source": [
    "### Constrained Growth"
   ]
  },
  {
   "cell_type": "markdown",
   "metadata": {},
   "source": [
    "$$\\frac{dP}{dt}=r\\left(1-\\frac{P}{M}\\right)P$$"
   ]
  },
  {
   "cell_type": "code",
   "execution_count": 26,
   "metadata": {},
   "outputs": [],
   "source": [
    "def dPdt_constrained(popul, t, capacity=1000., rate=.1):\n",
    "    return rate*(1-popul/capacity)*popul"
   ]
  },
  {
   "cell_type": "code",
   "execution_count": 27,
   "metadata": {},
   "outputs": [],
   "source": [
    "capacity = 1000.\n",
    "popul_0 = 20.\n",
    "growth_rate = 1.05\n",
    "time_points = np.arange(0, 15, .1)"
   ]
  },
  {
   "cell_type": "code",
   "execution_count": 28,
   "metadata": {},
   "outputs": [],
   "source": [
    "growth = integrate.odeint(dPdt_constrained, popul_0, time_points, \n",
    "                            args=(capacity, growth_rate))"
   ]
  },
  {
   "cell_type": "code",
   "execution_count": 29,
   "metadata": {},
   "outputs": [],
   "source": [
    "growth2 = integrate.odeint(dPdt_constrained, popul_0, time_points, \n",
    "                            args=(capacity, .5))"
   ]
  },
  {
   "cell_type": "code",
   "execution_count": 31,
   "metadata": {},
   "outputs": [
    {
     "data": {
      "image/png": "[encoded data removed]",
      "text/plain": [
       "<matplotlib.figure.Figure at 0x111991320>"
      ]
     },
     "metadata": {},
     "output_type": "display_data"
    },
    {
     "data": {
      "image/png": "[encoded data removed]",
      "text/plain": [
       "<matplotlib.figure.Figure at 0x111907da0>"
      ]
     },
     "metadata": {},
     "output_type": "display_data"
    },
    {
     "data": {
      "image/png": "[encoded data removed]",
      "text/plain": [
       "<matplotlib.figure.Figure at 0x111ac3b70>"
      ]
     },
     "metadata": {},
     "output_type": "display_data"
    }
   ],
   "source": [
    "fig, ax = plt.subplots(figsize=(10,6), subplot_kw=dict(xlabel=\"Time\", ylabel=\"Population\"))\n",
    "ax.plot(time_points, growth, label=\"Growth Rate - 105%\");\n",
    "ax.plot(time_points, growth2, 'r', label=\"Growth Rate - 50%\");\n",
    "ax.set_xlim(0, 14)\n",
    "ax.legend(loc=\"upper left\")\n",
    "plt.show()"
   ]
  },
  {
   "cell_type": "markdown",
   "metadata": {},
   "source": [
    "**Review Question** Graph the logistic equation, where the initial population is 1500, carrying capacity is 1000, and the instantaneous rate of births is 50%."
   ]
  }
 ],
 "metadata": {
  "kernelspec": {
   "display_name": "Python 3",
   "language": "python",
   "name": "python3"
  },
  "language_info": {
   "codemirror_mode": {
    "name": "ipython",
    "version": 3
   },
   "file_extension": ".py",
   "mimetype": "text/x-python",
   "name": "python",
   "nbconvert_exporter": "python",
   "pygments_lexer": "ipython3",
   "version": "3.6.2"
  }
 },
 "nbformat": 4,
 "nbformat_minor": 1
}
