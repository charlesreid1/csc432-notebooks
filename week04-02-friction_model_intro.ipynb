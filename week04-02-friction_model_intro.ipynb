{
 "cells": [
  {
   "cell_type": "markdown",
   "metadata": {},
   "source": [
    "### Acceleration, Velocity, and Position"
   ]
  },
  {
   "cell_type": "markdown",
   "metadata": {},
   "source": [
    "Recall that the instantaneous rate of change, or derivative, of a position $s$ with respect to time $t$ is velocity $v$ and the derivative of velocity with respect to time is acceleration $a$. Acceleration is thus the second derivative of the position with respect to time.\n",
    "\n",
    "$$v(t)=\\frac{ds}{dt}$$\n",
    "\n",
    "$$a(t)=\\frac{dv}{dt}=\\frac{d^2v}{dt^2}$$"
   ]
  },
  {
   "cell_type": "markdown",
   "metadata": {},
   "source": [
    "### Physics Background"
   ]
  },
  {
   "cell_type": "markdown",
   "metadata": {},
   "source": [
    "* When modeling a freefalling object, acceleration is due to gravity.\n",
    "  * constant **acceleration due to gravity** of $-9.81m/sec^2$\n",
    "* Often it is more convenient to look at **speed** rather than velocity\n",
    "  * **speed** is the magnitute of the change in position with respect to time\n",
    "  * **velocity** expresses both magnitude and direction\n",
    "* **Newton's Second Law**\n",
    "  * $a=F/m$ or $F=ma$\n",
    "* **weight** is a force\n",
    "* **Kinetic friction** or **drag**\n",
    "  * Also a force\n",
    "  * **Newtonian friction** $F=0.5CDAv^2$"
   ]
  },
  {
   "cell_type": "markdown",
   "metadata": {},
   "source": [
    "* $F=0.5CDAv^2$\n",
    "  * $C$ is a dimensionless constant -- the **drag coefficient**\n",
    "  * $D$ is the density of the fluid through which you're moving\n",
    "  * $A$ is the object's projected area in the direction of movement\n",
    "* Assume $C$ is 1 - for a sphere - neutral drag\n",
    "* $F=.5(1)(1.29kg/m^3)Av^2 \\approx 0.65Av^2$ \n",
    "* Since we're moving downward - drag acts upward and gravity downward\n",
    "* $-0.5CDAv|v|$"
   ]
  },
  {
   "cell_type": "code",
   "execution_count": 1,
   "metadata": {},
   "outputs": [],
   "source": [
    "import numpy as np\n",
    "import matplotlib.pyplot as plt"
   ]
  },
  {
   "cell_type": "code",
   "execution_count": 2,
   "metadata": {},
   "outputs": [],
   "source": [
    "# ordinary variables\n",
    "accel_grav = -9.81 # m/sec^2\n",
    "radius = .05 # m\n",
    "mass = .5 # kg\n",
    "\n",
    "# derived variables\n",
    "proj_area = np.pi*radius**2\n",
    "weight = mass*accel_grav\n",
    "\n",
    "# define time \"grid\"\n",
    "t0, t_end = 0, 15\n",
    "dt = .1\n",
    "time_grid = np.arange(0, 15, .1)\n",
    "# time_grid = np.linspace(0, 15, 1000)\n",
    "\n",
    "velocity = np.zeros_like(time_grid) # m/s\n",
    "position = np.zeros_like(time_grid) # m\n",
    "# initial positions\n",
    "\n",
    "velocity[0] = 0 # m/s\n",
    "position[0] = 400 # m"
   ]
  },
  {
   "cell_type": "code",
   "execution_count": 3,
   "metadata": {},
   "outputs": [],
   "source": [
    "# model flows through simulation\n",
    "for i, t in enumerate(time_grid[:-1]):\n",
    "    # newtonian friction\n",
    "    air_friction = (-.65*proj_area*velocity[i]*\n",
    "                    np.abs(velocity[i]))\n",
    "    total_force = weight + air_friction\n",
    "    # F = ma\n",
    "    acceleration = total_force / mass\n",
    "    change_in_velocity = acceleration\n",
    "    velocity[i+1] = velocity[i] + change_in_velocity*dt\n",
    "    position[i+1] = position[i] + velocity[i]*dt"
   ]
  }
 ],
 "metadata": {
  "kernelspec": {
   "display_name": "Python 3",
   "language": "python",
   "name": "python3"
  },
  "language_info": {
   "codemirror_mode": {
    "name": "ipython",
    "version": 3
   },
   "file_extension": ".py",
   "mimetype": "text/x-python",
   "name": "python",
   "nbconvert_exporter": "python",
   "pygments_lexer": "ipython3",
   "version": "3.6.2"
  }
 },
 "nbformat": 4,
 "nbformat_minor": 1
}
